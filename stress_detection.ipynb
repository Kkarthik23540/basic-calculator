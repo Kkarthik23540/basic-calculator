{
  "cells": [
    {
      "cell_type": "markdown",
      "metadata": {
        "id": "view-in-github",
        "colab_type": "text"
      },
      "source": [
        "<a href=\"https://colab.research.google.com/github/Kkarthik23540/basic-calculator/blob/main/stress_detection.ipynb\" target=\"_parent\"><img src=\"https://colab.research.google.com/assets/colab-badge.svg\" alt=\"Open In Colab\"/></a>"
      ]
    },
    {
      "cell_type": "code",
      "execution_count": 2,
      "metadata": {
        "id": "1tjqG5R7bh16"
      },
      "outputs": [],
      "source": [
        "#importing libraries\n",
        "import pandas as pd\n",
        "import numpy as np\n",
        "import seaborn as sns\n",
        "import matplotlib.pyplot as plt\n"
      ]
    },
    {
      "cell_type": "code",
      "execution_count": 3,
      "metadata": {
        "id": "nrgmNz5Hbh18"
      },
      "outputs": [],
      "source": [
        "#loading the dataset using pandas\n",
        "train = pd.read_csv('/content/SaYoPillow.csv')"
      ]
    },
    {
      "cell_type": "code",
      "execution_count": 4,
      "metadata": {
        "id": "3AG_eVblIM7v",
        "outputId": "d07527f6-b509-47b0-a610-2dbc8391fcaa",
        "colab": {
          "base_uri": "https://localhost:8080/"
        }
      },
      "outputs": [
        {
          "output_type": "stream",
          "name": "stdout",
          "text": [
            "Index(['sr', 'rr', 'bt', 'lm', 'bo', 'em', 'nhs', 'hr', 'sl'], dtype='object')\n"
          ]
        }
      ],
      "source": [
        "print(train.columns)  # Check column names"
      ]
    },
    {
      "cell_type": "code",
      "execution_count": 5,
      "metadata": {
        "colab": {
          "base_uri": "https://localhost:8080/"
        },
        "id": "BvC7jj91bh19",
        "outputId": "7a55484b-e530-4d88-f215-00d37de46a69"
      },
      "outputs": [
        {
          "output_type": "stream",
          "name": "stdout",
          "text": [
            "the shape of the dataset is: (630, 9)\n"
          ]
        }
      ],
      "source": [
        "#shape of the dataset which gives the number of rows and columns\n",
        "print(\"the shape of the dataset is:\",train.shape)\n"
      ]
    },
    {
      "cell_type": "code",
      "execution_count": 6,
      "metadata": {
        "colab": {
          "base_uri": "https://localhost:8080/"
        },
        "id": "VD4cVNIIbh1-",
        "outputId": "7fd9e67d-c5b7-4443-ea44-f824b160b1b7"
      },
      "outputs": [
        {
          "output_type": "stream",
          "name": "stdout",
          "text": [
            "the max and min values in each column is\n",
            "\n",
            "      Min    Max\n",
            "sr   45.0  100.0\n",
            "rr   16.0   30.0\n",
            "bt   85.0   99.0\n",
            "lm    4.0   19.0\n",
            "bo   82.0   97.0\n",
            "em   60.0  105.0\n",
            "nhs   0.0    9.0\n",
            "hr   50.0   85.0\n",
            "sl    0.0    4.0\n"
          ]
        }
      ],
      "source": [
        "#finding max and min values of each column\n",
        "min_value = train.min()\n",
        "max_value = train.max()\n",
        "print(\"the max and min values in each column is\\n\")\n",
        "range_diff = pd.DataFrame({'Min': min_value, 'Max': max_value})\n",
        "print(range_diff)"
      ]
    },
    {
      "cell_type": "code",
      "execution_count": 7,
      "metadata": {
        "colab": {
          "base_uri": "https://localhost:8080/",
          "height": 424
        },
        "id": "06EHbfRsbh1_",
        "outputId": "37e27cfd-ce40-4be3-d038-f60f111d01f9"
      },
      "outputs": [
        {
          "output_type": "execute_result",
          "data": {
            "text/plain": [
              "         sr      rr      bt      lm      bo      em    nhs     hr  sl\n",
              "0    93.800  25.680  91.840  16.600  89.840   99.60  1.840  74.20   3\n",
              "1    91.640  25.104  91.552  15.880  89.552   98.88  1.552  72.76   3\n",
              "2    60.000  20.000  96.000  10.000  95.000   85.00  7.000  60.00   1\n",
              "3    85.760  23.536  90.768  13.920  88.768   96.92  0.768  68.84   3\n",
              "4    48.120  17.248  97.872   6.496  96.248   72.48  8.248  53.12   0\n",
              "..      ...     ...     ...     ...     ...     ...    ...    ...  ..\n",
              "625  69.600  20.960  92.960  10.960  90.960   89.80  3.440  62.40   2\n",
              "626  48.440  17.376  98.064   6.752  96.376   73.76  8.376  53.44   0\n",
              "627  97.504  27.504  86.880  17.752  84.256  101.88  0.000  78.76   4\n",
              "628  58.640  19.728  95.728   9.728  94.592   84.32  6.728  59.32   1\n",
              "629  73.920  21.392  93.392  11.392  91.392   91.96  4.088  63.48   2\n",
              "\n",
              "[630 rows x 9 columns]"
            ],
            "text/html": [
              "\n",
              "  <div id=\"df-620a8833-52ea-45b2-a435-19767a49fce2\" class=\"colab-df-container\">\n",
              "    <div>\n",
              "<style scoped>\n",
              "    .dataframe tbody tr th:only-of-type {\n",
              "        vertical-align: middle;\n",
              "    }\n",
              "\n",
              "    .dataframe tbody tr th {\n",
              "        vertical-align: top;\n",
              "    }\n",
              "\n",
              "    .dataframe thead th {\n",
              "        text-align: right;\n",
              "    }\n",
              "</style>\n",
              "<table border=\"1\" class=\"dataframe\">\n",
              "  <thead>\n",
              "    <tr style=\"text-align: right;\">\n",
              "      <th></th>\n",
              "      <th>sr</th>\n",
              "      <th>rr</th>\n",
              "      <th>bt</th>\n",
              "      <th>lm</th>\n",
              "      <th>bo</th>\n",
              "      <th>em</th>\n",
              "      <th>nhs</th>\n",
              "      <th>hr</th>\n",
              "      <th>sl</th>\n",
              "    </tr>\n",
              "  </thead>\n",
              "  <tbody>\n",
              "    <tr>\n",
              "      <th>0</th>\n",
              "      <td>93.800</td>\n",
              "      <td>25.680</td>\n",
              "      <td>91.840</td>\n",
              "      <td>16.600</td>\n",
              "      <td>89.840</td>\n",
              "      <td>99.60</td>\n",
              "      <td>1.840</td>\n",
              "      <td>74.20</td>\n",
              "      <td>3</td>\n",
              "    </tr>\n",
              "    <tr>\n",
              "      <th>1</th>\n",
              "      <td>91.640</td>\n",
              "      <td>25.104</td>\n",
              "      <td>91.552</td>\n",
              "      <td>15.880</td>\n",
              "      <td>89.552</td>\n",
              "      <td>98.88</td>\n",
              "      <td>1.552</td>\n",
              "      <td>72.76</td>\n",
              "      <td>3</td>\n",
              "    </tr>\n",
              "    <tr>\n",
              "      <th>2</th>\n",
              "      <td>60.000</td>\n",
              "      <td>20.000</td>\n",
              "      <td>96.000</td>\n",
              "      <td>10.000</td>\n",
              "      <td>95.000</td>\n",
              "      <td>85.00</td>\n",
              "      <td>7.000</td>\n",
              "      <td>60.00</td>\n",
              "      <td>1</td>\n",
              "    </tr>\n",
              "    <tr>\n",
              "      <th>3</th>\n",
              "      <td>85.760</td>\n",
              "      <td>23.536</td>\n",
              "      <td>90.768</td>\n",
              "      <td>13.920</td>\n",
              "      <td>88.768</td>\n",
              "      <td>96.92</td>\n",
              "      <td>0.768</td>\n",
              "      <td>68.84</td>\n",
              "      <td>3</td>\n",
              "    </tr>\n",
              "    <tr>\n",
              "      <th>4</th>\n",
              "      <td>48.120</td>\n",
              "      <td>17.248</td>\n",
              "      <td>97.872</td>\n",
              "      <td>6.496</td>\n",
              "      <td>96.248</td>\n",
              "      <td>72.48</td>\n",
              "      <td>8.248</td>\n",
              "      <td>53.12</td>\n",
              "      <td>0</td>\n",
              "    </tr>\n",
              "    <tr>\n",
              "      <th>...</th>\n",
              "      <td>...</td>\n",
              "      <td>...</td>\n",
              "      <td>...</td>\n",
              "      <td>...</td>\n",
              "      <td>...</td>\n",
              "      <td>...</td>\n",
              "      <td>...</td>\n",
              "      <td>...</td>\n",
              "      <td>...</td>\n",
              "    </tr>\n",
              "    <tr>\n",
              "      <th>625</th>\n",
              "      <td>69.600</td>\n",
              "      <td>20.960</td>\n",
              "      <td>92.960</td>\n",
              "      <td>10.960</td>\n",
              "      <td>90.960</td>\n",
              "      <td>89.80</td>\n",
              "      <td>3.440</td>\n",
              "      <td>62.40</td>\n",
              "      <td>2</td>\n",
              "    </tr>\n",
              "    <tr>\n",
              "      <th>626</th>\n",
              "      <td>48.440</td>\n",
              "      <td>17.376</td>\n",
              "      <td>98.064</td>\n",
              "      <td>6.752</td>\n",
              "      <td>96.376</td>\n",
              "      <td>73.76</td>\n",
              "      <td>8.376</td>\n",
              "      <td>53.44</td>\n",
              "      <td>0</td>\n",
              "    </tr>\n",
              "    <tr>\n",
              "      <th>627</th>\n",
              "      <td>97.504</td>\n",
              "      <td>27.504</td>\n",
              "      <td>86.880</td>\n",
              "      <td>17.752</td>\n",
              "      <td>84.256</td>\n",
              "      <td>101.88</td>\n",
              "      <td>0.000</td>\n",
              "      <td>78.76</td>\n",
              "      <td>4</td>\n",
              "    </tr>\n",
              "    <tr>\n",
              "      <th>628</th>\n",
              "      <td>58.640</td>\n",
              "      <td>19.728</td>\n",
              "      <td>95.728</td>\n",
              "      <td>9.728</td>\n",
              "      <td>94.592</td>\n",
              "      <td>84.32</td>\n",
              "      <td>6.728</td>\n",
              "      <td>59.32</td>\n",
              "      <td>1</td>\n",
              "    </tr>\n",
              "    <tr>\n",
              "      <th>629</th>\n",
              "      <td>73.920</td>\n",
              "      <td>21.392</td>\n",
              "      <td>93.392</td>\n",
              "      <td>11.392</td>\n",
              "      <td>91.392</td>\n",
              "      <td>91.96</td>\n",
              "      <td>4.088</td>\n",
              "      <td>63.48</td>\n",
              "      <td>2</td>\n",
              "    </tr>\n",
              "  </tbody>\n",
              "</table>\n",
              "<p>630 rows × 9 columns</p>\n",
              "</div>\n",
              "    <div class=\"colab-df-buttons\">\n",
              "\n",
              "  <div class=\"colab-df-container\">\n",
              "    <button class=\"colab-df-convert\" onclick=\"convertToInteractive('df-620a8833-52ea-45b2-a435-19767a49fce2')\"\n",
              "            title=\"Convert this dataframe to an interactive table.\"\n",
              "            style=\"display:none;\">\n",
              "\n",
              "  <svg xmlns=\"http://www.w3.org/2000/svg\" height=\"24px\" viewBox=\"0 -960 960 960\">\n",
              "    <path d=\"M120-120v-720h720v720H120Zm60-500h600v-160H180v160Zm220 220h160v-160H400v160Zm0 220h160v-160H400v160ZM180-400h160v-160H180v160Zm440 0h160v-160H620v160ZM180-180h160v-160H180v160Zm440 0h160v-160H620v160Z\"/>\n",
              "  </svg>\n",
              "    </button>\n",
              "\n",
              "  <style>\n",
              "    .colab-df-container {\n",
              "      display:flex;\n",
              "      gap: 12px;\n",
              "    }\n",
              "\n",
              "    .colab-df-convert {\n",
              "      background-color: #E8F0FE;\n",
              "      border: none;\n",
              "      border-radius: 50%;\n",
              "      cursor: pointer;\n",
              "      display: none;\n",
              "      fill: #1967D2;\n",
              "      height: 32px;\n",
              "      padding: 0 0 0 0;\n",
              "      width: 32px;\n",
              "    }\n",
              "\n",
              "    .colab-df-convert:hover {\n",
              "      background-color: #E2EBFA;\n",
              "      box-shadow: 0px 1px 2px rgba(60, 64, 67, 0.3), 0px 1px 3px 1px rgba(60, 64, 67, 0.15);\n",
              "      fill: #174EA6;\n",
              "    }\n",
              "\n",
              "    .colab-df-buttons div {\n",
              "      margin-bottom: 4px;\n",
              "    }\n",
              "\n",
              "    [theme=dark] .colab-df-convert {\n",
              "      background-color: #3B4455;\n",
              "      fill: #D2E3FC;\n",
              "    }\n",
              "\n",
              "    [theme=dark] .colab-df-convert:hover {\n",
              "      background-color: #434B5C;\n",
              "      box-shadow: 0px 1px 3px 1px rgba(0, 0, 0, 0.15);\n",
              "      filter: drop-shadow(0px 1px 2px rgba(0, 0, 0, 0.3));\n",
              "      fill: #FFFFFF;\n",
              "    }\n",
              "  </style>\n",
              "\n",
              "    <script>\n",
              "      const buttonEl =\n",
              "        document.querySelector('#df-620a8833-52ea-45b2-a435-19767a49fce2 button.colab-df-convert');\n",
              "      buttonEl.style.display =\n",
              "        google.colab.kernel.accessAllowed ? 'block' : 'none';\n",
              "\n",
              "      async function convertToInteractive(key) {\n",
              "        const element = document.querySelector('#df-620a8833-52ea-45b2-a435-19767a49fce2');\n",
              "        const dataTable =\n",
              "          await google.colab.kernel.invokeFunction('convertToInteractive',\n",
              "                                                    [key], {});\n",
              "        if (!dataTable) return;\n",
              "\n",
              "        const docLinkHtml = 'Like what you see? Visit the ' +\n",
              "          '<a target=\"_blank\" href=https://colab.research.google.com/notebooks/data_table.ipynb>data table notebook</a>'\n",
              "          + ' to learn more about interactive tables.';\n",
              "        element.innerHTML = '';\n",
              "        dataTable['output_type'] = 'display_data';\n",
              "        await google.colab.output.renderOutput(dataTable, element);\n",
              "        const docLink = document.createElement('div');\n",
              "        docLink.innerHTML = docLinkHtml;\n",
              "        element.appendChild(docLink);\n",
              "      }\n",
              "    </script>\n",
              "  </div>\n",
              "\n",
              "\n",
              "<div id=\"df-fa32e8a9-3b11-43ae-8a1f-e164da5dd2e1\">\n",
              "  <button class=\"colab-df-quickchart\" onclick=\"quickchart('df-fa32e8a9-3b11-43ae-8a1f-e164da5dd2e1')\"\n",
              "            title=\"Suggest charts\"\n",
              "            style=\"display:none;\">\n",
              "\n",
              "<svg xmlns=\"http://www.w3.org/2000/svg\" height=\"24px\"viewBox=\"0 0 24 24\"\n",
              "     width=\"24px\">\n",
              "    <g>\n",
              "        <path d=\"M19 3H5c-1.1 0-2 .9-2 2v14c0 1.1.9 2 2 2h14c1.1 0 2-.9 2-2V5c0-1.1-.9-2-2-2zM9 17H7v-7h2v7zm4 0h-2V7h2v10zm4 0h-2v-4h2v4z\"/>\n",
              "    </g>\n",
              "</svg>\n",
              "  </button>\n",
              "\n",
              "<style>\n",
              "  .colab-df-quickchart {\n",
              "      --bg-color: #E8F0FE;\n",
              "      --fill-color: #1967D2;\n",
              "      --hover-bg-color: #E2EBFA;\n",
              "      --hover-fill-color: #174EA6;\n",
              "      --disabled-fill-color: #AAA;\n",
              "      --disabled-bg-color: #DDD;\n",
              "  }\n",
              "\n",
              "  [theme=dark] .colab-df-quickchart {\n",
              "      --bg-color: #3B4455;\n",
              "      --fill-color: #D2E3FC;\n",
              "      --hover-bg-color: #434B5C;\n",
              "      --hover-fill-color: #FFFFFF;\n",
              "      --disabled-bg-color: #3B4455;\n",
              "      --disabled-fill-color: #666;\n",
              "  }\n",
              "\n",
              "  .colab-df-quickchart {\n",
              "    background-color: var(--bg-color);\n",
              "    border: none;\n",
              "    border-radius: 50%;\n",
              "    cursor: pointer;\n",
              "    display: none;\n",
              "    fill: var(--fill-color);\n",
              "    height: 32px;\n",
              "    padding: 0;\n",
              "    width: 32px;\n",
              "  }\n",
              "\n",
              "  .colab-df-quickchart:hover {\n",
              "    background-color: var(--hover-bg-color);\n",
              "    box-shadow: 0 1px 2px rgba(60, 64, 67, 0.3), 0 1px 3px 1px rgba(60, 64, 67, 0.15);\n",
              "    fill: var(--button-hover-fill-color);\n",
              "  }\n",
              "\n",
              "  .colab-df-quickchart-complete:disabled,\n",
              "  .colab-df-quickchart-complete:disabled:hover {\n",
              "    background-color: var(--disabled-bg-color);\n",
              "    fill: var(--disabled-fill-color);\n",
              "    box-shadow: none;\n",
              "  }\n",
              "\n",
              "  .colab-df-spinner {\n",
              "    border: 2px solid var(--fill-color);\n",
              "    border-color: transparent;\n",
              "    border-bottom-color: var(--fill-color);\n",
              "    animation:\n",
              "      spin 1s steps(1) infinite;\n",
              "  }\n",
              "\n",
              "  @keyframes spin {\n",
              "    0% {\n",
              "      border-color: transparent;\n",
              "      border-bottom-color: var(--fill-color);\n",
              "      border-left-color: var(--fill-color);\n",
              "    }\n",
              "    20% {\n",
              "      border-color: transparent;\n",
              "      border-left-color: var(--fill-color);\n",
              "      border-top-color: var(--fill-color);\n",
              "    }\n",
              "    30% {\n",
              "      border-color: transparent;\n",
              "      border-left-color: var(--fill-color);\n",
              "      border-top-color: var(--fill-color);\n",
              "      border-right-color: var(--fill-color);\n",
              "    }\n",
              "    40% {\n",
              "      border-color: transparent;\n",
              "      border-right-color: var(--fill-color);\n",
              "      border-top-color: var(--fill-color);\n",
              "    }\n",
              "    60% {\n",
              "      border-color: transparent;\n",
              "      border-right-color: var(--fill-color);\n",
              "    }\n",
              "    80% {\n",
              "      border-color: transparent;\n",
              "      border-right-color: var(--fill-color);\n",
              "      border-bottom-color: var(--fill-color);\n",
              "    }\n",
              "    90% {\n",
              "      border-color: transparent;\n",
              "      border-bottom-color: var(--fill-color);\n",
              "    }\n",
              "  }\n",
              "</style>\n",
              "\n",
              "  <script>\n",
              "    async function quickchart(key) {\n",
              "      const quickchartButtonEl =\n",
              "        document.querySelector('#' + key + ' button');\n",
              "      quickchartButtonEl.disabled = true;  // To prevent multiple clicks.\n",
              "      quickchartButtonEl.classList.add('colab-df-spinner');\n",
              "      try {\n",
              "        const charts = await google.colab.kernel.invokeFunction(\n",
              "            'suggestCharts', [key], {});\n",
              "      } catch (error) {\n",
              "        console.error('Error during call to suggestCharts:', error);\n",
              "      }\n",
              "      quickchartButtonEl.classList.remove('colab-df-spinner');\n",
              "      quickchartButtonEl.classList.add('colab-df-quickchart-complete');\n",
              "    }\n",
              "    (() => {\n",
              "      let quickchartButtonEl =\n",
              "        document.querySelector('#df-fa32e8a9-3b11-43ae-8a1f-e164da5dd2e1 button');\n",
              "      quickchartButtonEl.style.display =\n",
              "        google.colab.kernel.accessAllowed ? 'block' : 'none';\n",
              "    })();\n",
              "  </script>\n",
              "</div>\n",
              "\n",
              "  <div id=\"id_49f54985-a2cc-44e8-ae34-3f84b9de8510\">\n",
              "    <style>\n",
              "      .colab-df-generate {\n",
              "        background-color: #E8F0FE;\n",
              "        border: none;\n",
              "        border-radius: 50%;\n",
              "        cursor: pointer;\n",
              "        display: none;\n",
              "        fill: #1967D2;\n",
              "        height: 32px;\n",
              "        padding: 0 0 0 0;\n",
              "        width: 32px;\n",
              "      }\n",
              "\n",
              "      .colab-df-generate:hover {\n",
              "        background-color: #E2EBFA;\n",
              "        box-shadow: 0px 1px 2px rgba(60, 64, 67, 0.3), 0px 1px 3px 1px rgba(60, 64, 67, 0.15);\n",
              "        fill: #174EA6;\n",
              "      }\n",
              "\n",
              "      [theme=dark] .colab-df-generate {\n",
              "        background-color: #3B4455;\n",
              "        fill: #D2E3FC;\n",
              "      }\n",
              "\n",
              "      [theme=dark] .colab-df-generate:hover {\n",
              "        background-color: #434B5C;\n",
              "        box-shadow: 0px 1px 3px 1px rgba(0, 0, 0, 0.15);\n",
              "        filter: drop-shadow(0px 1px 2px rgba(0, 0, 0, 0.3));\n",
              "        fill: #FFFFFF;\n",
              "      }\n",
              "    </style>\n",
              "    <button class=\"colab-df-generate\" onclick=\"generateWithVariable('train')\"\n",
              "            title=\"Generate code using this dataframe.\"\n",
              "            style=\"display:none;\">\n",
              "\n",
              "  <svg xmlns=\"http://www.w3.org/2000/svg\" height=\"24px\"viewBox=\"0 0 24 24\"\n",
              "       width=\"24px\">\n",
              "    <path d=\"M7,19H8.4L18.45,9,17,7.55,7,17.6ZM5,21V16.75L18.45,3.32a2,2,0,0,1,2.83,0l1.4,1.43a1.91,1.91,0,0,1,.58,1.4,1.91,1.91,0,0,1-.58,1.4L9.25,21ZM18.45,9,17,7.55Zm-12,3A5.31,5.31,0,0,0,4.9,8.1,5.31,5.31,0,0,0,1,6.5,5.31,5.31,0,0,0,4.9,4.9,5.31,5.31,0,0,0,6.5,1,5.31,5.31,0,0,0,8.1,4.9,5.31,5.31,0,0,0,12,6.5,5.46,5.46,0,0,0,6.5,12Z\"/>\n",
              "  </svg>\n",
              "    </button>\n",
              "    <script>\n",
              "      (() => {\n",
              "      const buttonEl =\n",
              "        document.querySelector('#id_49f54985-a2cc-44e8-ae34-3f84b9de8510 button.colab-df-generate');\n",
              "      buttonEl.style.display =\n",
              "        google.colab.kernel.accessAllowed ? 'block' : 'none';\n",
              "\n",
              "      buttonEl.onclick = () => {\n",
              "        google.colab.notebook.generateWithVariable('train');\n",
              "      }\n",
              "      })();\n",
              "    </script>\n",
              "  </div>\n",
              "\n",
              "    </div>\n",
              "  </div>\n"
            ],
            "application/vnd.google.colaboratory.intrinsic+json": {
              "type": "dataframe",
              "variable_name": "train",
              "summary": "{\n  \"name\": \"train\",\n  \"rows\": 630,\n  \"fields\": [\n    {\n      \"column\": \"sr\",\n      \"properties\": {\n        \"dtype\": \"number\",\n        \"std\": 19.372832993333724,\n        \"min\": 45.0,\n        \"max\": 100.0,\n        \"num_unique_values\": 627,\n        \"samples\": [\n          59.76,\n          47.48,\n          49.04\n        ],\n        \"semantic_type\": \"\",\n        \"description\": \"\"\n      }\n    },\n    {\n      \"column\": \"rr\",\n      \"properties\": {\n        \"dtype\": \"number\",\n        \"std\": 3.9661108123894646,\n        \"min\": 16.0,\n        \"max\": 30.0,\n        \"num_unique_values\": 626,\n        \"samples\": [\n          18.496,\n          20.384,\n          21.776\n        ],\n        \"semantic_type\": \"\",\n        \"description\": \"\"\n      }\n    },\n    {\n      \"column\": \"bt\",\n      \"properties\": {\n        \"dtype\": \"number\",\n        \"std\": 3.52968965519678,\n        \"min\": 85.0,\n        \"max\": 99.0,\n        \"num_unique_values\": 626,\n        \"samples\": [\n          94.496,\n          92.384,\n          97.44\n        ],\n        \"semantic_type\": \"\",\n        \"description\": \"\"\n      }\n    },\n    {\n      \"column\": \"lm\",\n      \"properties\": {\n        \"dtype\": \"number\",\n        \"std\": 4.299629148055774,\n        \"min\": 4.0,\n        \"max\": 19.0,\n        \"num_unique_values\": 626,\n        \"samples\": [\n          8.496,\n          10.384,\n          11.776\n        ],\n        \"semantic_type\": \"\",\n        \"description\": \"\"\n      }\n    },\n    {\n      \"column\": \"bo\",\n      \"properties\": {\n        \"dtype\": \"number\",\n        \"std\": 3.902483005587982,\n        \"min\": 82.0,\n        \"max\": 97.0,\n        \"num_unique_values\": 626,\n        \"samples\": [\n          92.744,\n          90.384,\n          95.96\n        ],\n        \"semantic_type\": \"\",\n        \"description\": \"\"\n      }\n    },\n    {\n      \"column\": \"em\",\n      \"properties\": {\n        \"dtype\": \"number\",\n        \"std\": 11.893746603450516,\n        \"min\": 60.0,\n        \"max\": 105.0,\n        \"num_unique_values\": 626,\n        \"samples\": [\n          81.24,\n          86.92,\n          93.88\n        ],\n        \"semantic_type\": \"\",\n        \"description\": \"\"\n      }\n    },\n    {\n      \"column\": \"nhs\",\n      \"properties\": {\n        \"dtype\": \"number\",\n        \"std\": 3.0545720117359716,\n        \"min\": 0.0,\n        \"max\": 9.0,\n        \"num_unique_values\": 501,\n        \"samples\": [\n          4.832,\n          2.768,\n          7.368\n        ],\n        \"semantic_type\": \"\",\n        \"description\": \"\"\n      }\n    },\n    {\n      \"column\": \"hr\",\n      \"properties\": {\n        \"dtype\": \"number\",\n        \"std\": 9.91527703097366,\n        \"min\": 50.0,\n        \"max\": 85.0,\n        \"num_unique_values\": 626,\n        \"samples\": [\n          56.24,\n          60.96,\n          64.44\n        ],\n        \"semantic_type\": \"\",\n        \"description\": \"\"\n      }\n    },\n    {\n      \"column\": \"sl\",\n      \"properties\": {\n        \"dtype\": \"number\",\n        \"std\": 1,\n        \"min\": 0,\n        \"max\": 4,\n        \"num_unique_values\": 5,\n        \"samples\": [\n          1,\n          4,\n          0\n        ],\n        \"semantic_type\": \"\",\n        \"description\": \"\"\n      }\n    }\n  ]\n}"
            }
          },
          "metadata": {},
          "execution_count": 7
        }
      ],
      "source": [
        "train"
      ]
    },
    {
      "cell_type": "code",
      "execution_count": 8,
      "metadata": {
        "colab": {
          "base_uri": "https://localhost:8080/"
        },
        "id": "BytoEkTCbh1_",
        "outputId": "eafb6a24-5793-4740-8c91-81099600958b"
      },
      "outputs": [
        {
          "output_type": "stream",
          "name": "stdout",
          "text": [
            "<class 'pandas.core.frame.DataFrame'>\n",
            "RangeIndex: 630 entries, 0 to 629\n",
            "Data columns (total 9 columns):\n",
            " #   Column  Non-Null Count  Dtype  \n",
            "---  ------  --------------  -----  \n",
            " 0   sr      630 non-null    float64\n",
            " 1   rr      630 non-null    float64\n",
            " 2   bt      630 non-null    float64\n",
            " 3   lm      630 non-null    float64\n",
            " 4   bo      630 non-null    float64\n",
            " 5   em      630 non-null    float64\n",
            " 6   nhs     630 non-null    float64\n",
            " 7   hr      630 non-null    float64\n",
            " 8   sl      630 non-null    int64  \n",
            "dtypes: float64(8), int64(1)\n",
            "memory usage: 44.4 KB\n"
          ]
        }
      ],
      "source": [
        "#information about the dataset\n",
        "train.info()"
      ]
    },
    {
      "cell_type": "code",
      "execution_count": 9,
      "metadata": {
        "id": "nCRWUXGdbh1_"
      },
      "outputs": [],
      "source": [
        "# sr - snoring range, rr - respiration rate, bt - body temperature, lm - limb movement rate, bo - blood oxygen,em - eye movement,nhs - number of hours sleep,hr - heart rate, sl - 0- low/normal, 1 – medium low, 2- medium, 3-medium high, 4 -high"
      ]
    },
    {
      "cell_type": "code",
      "execution_count": 10,
      "metadata": {
        "id": "ux9SisD1bh2A"
      },
      "outputs": [],
      "source": [
        "# Renaming the columns from original dataset\n",
        "train.rename(columns={\"sr\": \"Snoring Range\", \"rr\" : \"Respiration Rate\", \"bt\" : \"Body Temperature\", 'lm' : \"Limb Movement Rate\", \"bo\" : \"Blood Oxygen\", \"em\" : \"Eye Movement\", \"nhs\" : \"Number Of Hours Sleep\", \"hr\": \"Heart Rate\", \"sl\": \"Stress Level\"}, inplace=True)"
      ]
    },
    {
      "cell_type": "code",
      "execution_count": 11,
      "metadata": {
        "colab": {
          "base_uri": "https://localhost:8080/",
          "height": 424
        },
        "id": "fJTG-HNSbh2A",
        "outputId": "bd497bcd-4979-4970-c339-0990463087b7"
      },
      "outputs": [
        {
          "output_type": "execute_result",
          "data": {
            "text/plain": [
              "     Snoring Range  Respiration Rate  Body Temperature  Limb Movement Rate  \\\n",
              "0           93.800            25.680            91.840              16.600   \n",
              "1           91.640            25.104            91.552              15.880   \n",
              "2           60.000            20.000            96.000              10.000   \n",
              "3           85.760            23.536            90.768              13.920   \n",
              "4           48.120            17.248            97.872               6.496   \n",
              "..             ...               ...               ...                 ...   \n",
              "625         69.600            20.960            92.960              10.960   \n",
              "626         48.440            17.376            98.064               6.752   \n",
              "627         97.504            27.504            86.880              17.752   \n",
              "628         58.640            19.728            95.728               9.728   \n",
              "629         73.920            21.392            93.392              11.392   \n",
              "\n",
              "     Blood Oxygen  Eye Movement  Number Of Hours Sleep  Heart Rate  \\\n",
              "0          89.840         99.60                  1.840       74.20   \n",
              "1          89.552         98.88                  1.552       72.76   \n",
              "2          95.000         85.00                  7.000       60.00   \n",
              "3          88.768         96.92                  0.768       68.84   \n",
              "4          96.248         72.48                  8.248       53.12   \n",
              "..            ...           ...                    ...         ...   \n",
              "625        90.960         89.80                  3.440       62.40   \n",
              "626        96.376         73.76                  8.376       53.44   \n",
              "627        84.256        101.88                  0.000       78.76   \n",
              "628        94.592         84.32                  6.728       59.32   \n",
              "629        91.392         91.96                  4.088       63.48   \n",
              "\n",
              "     Stress Level  \n",
              "0               3  \n",
              "1               3  \n",
              "2               1  \n",
              "3               3  \n",
              "4               0  \n",
              "..            ...  \n",
              "625             2  \n",
              "626             0  \n",
              "627             4  \n",
              "628             1  \n",
              "629             2  \n",
              "\n",
              "[630 rows x 9 columns]"
            ],
            "text/html": [
              "\n",
              "  <div id=\"df-c611f3f4-b16d-41c4-845d-34bc52e93fc4\" class=\"colab-df-container\">\n",
              "    <div>\n",
              "<style scoped>\n",
              "    .dataframe tbody tr th:only-of-type {\n",
              "        vertical-align: middle;\n",
              "    }\n",
              "\n",
              "    .dataframe tbody tr th {\n",
              "        vertical-align: top;\n",
              "    }\n",
              "\n",
              "    .dataframe thead th {\n",
              "        text-align: right;\n",
              "    }\n",
              "</style>\n",
              "<table border=\"1\" class=\"dataframe\">\n",
              "  <thead>\n",
              "    <tr style=\"text-align: right;\">\n",
              "      <th></th>\n",
              "      <th>Snoring Range</th>\n",
              "      <th>Respiration Rate</th>\n",
              "      <th>Body Temperature</th>\n",
              "      <th>Limb Movement Rate</th>\n",
              "      <th>Blood Oxygen</th>\n",
              "      <th>Eye Movement</th>\n",
              "      <th>Number Of Hours Sleep</th>\n",
              "      <th>Heart Rate</th>\n",
              "      <th>Stress Level</th>\n",
              "    </tr>\n",
              "  </thead>\n",
              "  <tbody>\n",
              "    <tr>\n",
              "      <th>0</th>\n",
              "      <td>93.800</td>\n",
              "      <td>25.680</td>\n",
              "      <td>91.840</td>\n",
              "      <td>16.600</td>\n",
              "      <td>89.840</td>\n",
              "      <td>99.60</td>\n",
              "      <td>1.840</td>\n",
              "      <td>74.20</td>\n",
              "      <td>3</td>\n",
              "    </tr>\n",
              "    <tr>\n",
              "      <th>1</th>\n",
              "      <td>91.640</td>\n",
              "      <td>25.104</td>\n",
              "      <td>91.552</td>\n",
              "      <td>15.880</td>\n",
              "      <td>89.552</td>\n",
              "      <td>98.88</td>\n",
              "      <td>1.552</td>\n",
              "      <td>72.76</td>\n",
              "      <td>3</td>\n",
              "    </tr>\n",
              "    <tr>\n",
              "      <th>2</th>\n",
              "      <td>60.000</td>\n",
              "      <td>20.000</td>\n",
              "      <td>96.000</td>\n",
              "      <td>10.000</td>\n",
              "      <td>95.000</td>\n",
              "      <td>85.00</td>\n",
              "      <td>7.000</td>\n",
              "      <td>60.00</td>\n",
              "      <td>1</td>\n",
              "    </tr>\n",
              "    <tr>\n",
              "      <th>3</th>\n",
              "      <td>85.760</td>\n",
              "      <td>23.536</td>\n",
              "      <td>90.768</td>\n",
              "      <td>13.920</td>\n",
              "      <td>88.768</td>\n",
              "      <td>96.92</td>\n",
              "      <td>0.768</td>\n",
              "      <td>68.84</td>\n",
              "      <td>3</td>\n",
              "    </tr>\n",
              "    <tr>\n",
              "      <th>4</th>\n",
              "      <td>48.120</td>\n",
              "      <td>17.248</td>\n",
              "      <td>97.872</td>\n",
              "      <td>6.496</td>\n",
              "      <td>96.248</td>\n",
              "      <td>72.48</td>\n",
              "      <td>8.248</td>\n",
              "      <td>53.12</td>\n",
              "      <td>0</td>\n",
              "    </tr>\n",
              "    <tr>\n",
              "      <th>...</th>\n",
              "      <td>...</td>\n",
              "      <td>...</td>\n",
              "      <td>...</td>\n",
              "      <td>...</td>\n",
              "      <td>...</td>\n",
              "      <td>...</td>\n",
              "      <td>...</td>\n",
              "      <td>...</td>\n",
              "      <td>...</td>\n",
              "    </tr>\n",
              "    <tr>\n",
              "      <th>625</th>\n",
              "      <td>69.600</td>\n",
              "      <td>20.960</td>\n",
              "      <td>92.960</td>\n",
              "      <td>10.960</td>\n",
              "      <td>90.960</td>\n",
              "      <td>89.80</td>\n",
              "      <td>3.440</td>\n",
              "      <td>62.40</td>\n",
              "      <td>2</td>\n",
              "    </tr>\n",
              "    <tr>\n",
              "      <th>626</th>\n",
              "      <td>48.440</td>\n",
              "      <td>17.376</td>\n",
              "      <td>98.064</td>\n",
              "      <td>6.752</td>\n",
              "      <td>96.376</td>\n",
              "      <td>73.76</td>\n",
              "      <td>8.376</td>\n",
              "      <td>53.44</td>\n",
              "      <td>0</td>\n",
              "    </tr>\n",
              "    <tr>\n",
              "      <th>627</th>\n",
              "      <td>97.504</td>\n",
              "      <td>27.504</td>\n",
              "      <td>86.880</td>\n",
              "      <td>17.752</td>\n",
              "      <td>84.256</td>\n",
              "      <td>101.88</td>\n",
              "      <td>0.000</td>\n",
              "      <td>78.76</td>\n",
              "      <td>4</td>\n",
              "    </tr>\n",
              "    <tr>\n",
              "      <th>628</th>\n",
              "      <td>58.640</td>\n",
              "      <td>19.728</td>\n",
              "      <td>95.728</td>\n",
              "      <td>9.728</td>\n",
              "      <td>94.592</td>\n",
              "      <td>84.32</td>\n",
              "      <td>6.728</td>\n",
              "      <td>59.32</td>\n",
              "      <td>1</td>\n",
              "    </tr>\n",
              "    <tr>\n",
              "      <th>629</th>\n",
              "      <td>73.920</td>\n",
              "      <td>21.392</td>\n",
              "      <td>93.392</td>\n",
              "      <td>11.392</td>\n",
              "      <td>91.392</td>\n",
              "      <td>91.96</td>\n",
              "      <td>4.088</td>\n",
              "      <td>63.48</td>\n",
              "      <td>2</td>\n",
              "    </tr>\n",
              "  </tbody>\n",
              "</table>\n",
              "<p>630 rows × 9 columns</p>\n",
              "</div>\n",
              "    <div class=\"colab-df-buttons\">\n",
              "\n",
              "  <div class=\"colab-df-container\">\n",
              "    <button class=\"colab-df-convert\" onclick=\"convertToInteractive('df-c611f3f4-b16d-41c4-845d-34bc52e93fc4')\"\n",
              "            title=\"Convert this dataframe to an interactive table.\"\n",
              "            style=\"display:none;\">\n",
              "\n",
              "  <svg xmlns=\"http://www.w3.org/2000/svg\" height=\"24px\" viewBox=\"0 -960 960 960\">\n",
              "    <path d=\"M120-120v-720h720v720H120Zm60-500h600v-160H180v160Zm220 220h160v-160H400v160Zm0 220h160v-160H400v160ZM180-400h160v-160H180v160Zm440 0h160v-160H620v160ZM180-180h160v-160H180v160Zm440 0h160v-160H620v160Z\"/>\n",
              "  </svg>\n",
              "    </button>\n",
              "\n",
              "  <style>\n",
              "    .colab-df-container {\n",
              "      display:flex;\n",
              "      gap: 12px;\n",
              "    }\n",
              "\n",
              "    .colab-df-convert {\n",
              "      background-color: #E8F0FE;\n",
              "      border: none;\n",
              "      border-radius: 50%;\n",
              "      cursor: pointer;\n",
              "      display: none;\n",
              "      fill: #1967D2;\n",
              "      height: 32px;\n",
              "      padding: 0 0 0 0;\n",
              "      width: 32px;\n",
              "    }\n",
              "\n",
              "    .colab-df-convert:hover {\n",
              "      background-color: #E2EBFA;\n",
              "      box-shadow: 0px 1px 2px rgba(60, 64, 67, 0.3), 0px 1px 3px 1px rgba(60, 64, 67, 0.15);\n",
              "      fill: #174EA6;\n",
              "    }\n",
              "\n",
              "    .colab-df-buttons div {\n",
              "      margin-bottom: 4px;\n",
              "    }\n",
              "\n",
              "    [theme=dark] .colab-df-convert {\n",
              "      background-color: #3B4455;\n",
              "      fill: #D2E3FC;\n",
              "    }\n",
              "\n",
              "    [theme=dark] .colab-df-convert:hover {\n",
              "      background-color: #434B5C;\n",
              "      box-shadow: 0px 1px 3px 1px rgba(0, 0, 0, 0.15);\n",
              "      filter: drop-shadow(0px 1px 2px rgba(0, 0, 0, 0.3));\n",
              "      fill: #FFFFFF;\n",
              "    }\n",
              "  </style>\n",
              "\n",
              "    <script>\n",
              "      const buttonEl =\n",
              "        document.querySelector('#df-c611f3f4-b16d-41c4-845d-34bc52e93fc4 button.colab-df-convert');\n",
              "      buttonEl.style.display =\n",
              "        google.colab.kernel.accessAllowed ? 'block' : 'none';\n",
              "\n",
              "      async function convertToInteractive(key) {\n",
              "        const element = document.querySelector('#df-c611f3f4-b16d-41c4-845d-34bc52e93fc4');\n",
              "        const dataTable =\n",
              "          await google.colab.kernel.invokeFunction('convertToInteractive',\n",
              "                                                    [key], {});\n",
              "        if (!dataTable) return;\n",
              "\n",
              "        const docLinkHtml = 'Like what you see? Visit the ' +\n",
              "          '<a target=\"_blank\" href=https://colab.research.google.com/notebooks/data_table.ipynb>data table notebook</a>'\n",
              "          + ' to learn more about interactive tables.';\n",
              "        element.innerHTML = '';\n",
              "        dataTable['output_type'] = 'display_data';\n",
              "        await google.colab.output.renderOutput(dataTable, element);\n",
              "        const docLink = document.createElement('div');\n",
              "        docLink.innerHTML = docLinkHtml;\n",
              "        element.appendChild(docLink);\n",
              "      }\n",
              "    </script>\n",
              "  </div>\n",
              "\n",
              "\n",
              "<div id=\"df-5361a079-0582-4fb7-9e7c-b42aef16e27b\">\n",
              "  <button class=\"colab-df-quickchart\" onclick=\"quickchart('df-5361a079-0582-4fb7-9e7c-b42aef16e27b')\"\n",
              "            title=\"Suggest charts\"\n",
              "            style=\"display:none;\">\n",
              "\n",
              "<svg xmlns=\"http://www.w3.org/2000/svg\" height=\"24px\"viewBox=\"0 0 24 24\"\n",
              "     width=\"24px\">\n",
              "    <g>\n",
              "        <path d=\"M19 3H5c-1.1 0-2 .9-2 2v14c0 1.1.9 2 2 2h14c1.1 0 2-.9 2-2V5c0-1.1-.9-2-2-2zM9 17H7v-7h2v7zm4 0h-2V7h2v10zm4 0h-2v-4h2v4z\"/>\n",
              "    </g>\n",
              "</svg>\n",
              "  </button>\n",
              "\n",
              "<style>\n",
              "  .colab-df-quickchart {\n",
              "      --bg-color: #E8F0FE;\n",
              "      --fill-color: #1967D2;\n",
              "      --hover-bg-color: #E2EBFA;\n",
              "      --hover-fill-color: #174EA6;\n",
              "      --disabled-fill-color: #AAA;\n",
              "      --disabled-bg-color: #DDD;\n",
              "  }\n",
              "\n",
              "  [theme=dark] .colab-df-quickchart {\n",
              "      --bg-color: #3B4455;\n",
              "      --fill-color: #D2E3FC;\n",
              "      --hover-bg-color: #434B5C;\n",
              "      --hover-fill-color: #FFFFFF;\n",
              "      --disabled-bg-color: #3B4455;\n",
              "      --disabled-fill-color: #666;\n",
              "  }\n",
              "\n",
              "  .colab-df-quickchart {\n",
              "    background-color: var(--bg-color);\n",
              "    border: none;\n",
              "    border-radius: 50%;\n",
              "    cursor: pointer;\n",
              "    display: none;\n",
              "    fill: var(--fill-color);\n",
              "    height: 32px;\n",
              "    padding: 0;\n",
              "    width: 32px;\n",
              "  }\n",
              "\n",
              "  .colab-df-quickchart:hover {\n",
              "    background-color: var(--hover-bg-color);\n",
              "    box-shadow: 0 1px 2px rgba(60, 64, 67, 0.3), 0 1px 3px 1px rgba(60, 64, 67, 0.15);\n",
              "    fill: var(--button-hover-fill-color);\n",
              "  }\n",
              "\n",
              "  .colab-df-quickchart-complete:disabled,\n",
              "  .colab-df-quickchart-complete:disabled:hover {\n",
              "    background-color: var(--disabled-bg-color);\n",
              "    fill: var(--disabled-fill-color);\n",
              "    box-shadow: none;\n",
              "  }\n",
              "\n",
              "  .colab-df-spinner {\n",
              "    border: 2px solid var(--fill-color);\n",
              "    border-color: transparent;\n",
              "    border-bottom-color: var(--fill-color);\n",
              "    animation:\n",
              "      spin 1s steps(1) infinite;\n",
              "  }\n",
              "\n",
              "  @keyframes spin {\n",
              "    0% {\n",
              "      border-color: transparent;\n",
              "      border-bottom-color: var(--fill-color);\n",
              "      border-left-color: var(--fill-color);\n",
              "    }\n",
              "    20% {\n",
              "      border-color: transparent;\n",
              "      border-left-color: var(--fill-color);\n",
              "      border-top-color: var(--fill-color);\n",
              "    }\n",
              "    30% {\n",
              "      border-color: transparent;\n",
              "      border-left-color: var(--fill-color);\n",
              "      border-top-color: var(--fill-color);\n",
              "      border-right-color: var(--fill-color);\n",
              "    }\n",
              "    40% {\n",
              "      border-color: transparent;\n",
              "      border-right-color: var(--fill-color);\n",
              "      border-top-color: var(--fill-color);\n",
              "    }\n",
              "    60% {\n",
              "      border-color: transparent;\n",
              "      border-right-color: var(--fill-color);\n",
              "    }\n",
              "    80% {\n",
              "      border-color: transparent;\n",
              "      border-right-color: var(--fill-color);\n",
              "      border-bottom-color: var(--fill-color);\n",
              "    }\n",
              "    90% {\n",
              "      border-color: transparent;\n",
              "      border-bottom-color: var(--fill-color);\n",
              "    }\n",
              "  }\n",
              "</style>\n",
              "\n",
              "  <script>\n",
              "    async function quickchart(key) {\n",
              "      const quickchartButtonEl =\n",
              "        document.querySelector('#' + key + ' button');\n",
              "      quickchartButtonEl.disabled = true;  // To prevent multiple clicks.\n",
              "      quickchartButtonEl.classList.add('colab-df-spinner');\n",
              "      try {\n",
              "        const charts = await google.colab.kernel.invokeFunction(\n",
              "            'suggestCharts', [key], {});\n",
              "      } catch (error) {\n",
              "        console.error('Error during call to suggestCharts:', error);\n",
              "      }\n",
              "      quickchartButtonEl.classList.remove('colab-df-spinner');\n",
              "      quickchartButtonEl.classList.add('colab-df-quickchart-complete');\n",
              "    }\n",
              "    (() => {\n",
              "      let quickchartButtonEl =\n",
              "        document.querySelector('#df-5361a079-0582-4fb7-9e7c-b42aef16e27b button');\n",
              "      quickchartButtonEl.style.display =\n",
              "        google.colab.kernel.accessAllowed ? 'block' : 'none';\n",
              "    })();\n",
              "  </script>\n",
              "</div>\n",
              "\n",
              "  <div id=\"id_99bd0e39-afff-489d-9541-d1c133324db8\">\n",
              "    <style>\n",
              "      .colab-df-generate {\n",
              "        background-color: #E8F0FE;\n",
              "        border: none;\n",
              "        border-radius: 50%;\n",
              "        cursor: pointer;\n",
              "        display: none;\n",
              "        fill: #1967D2;\n",
              "        height: 32px;\n",
              "        padding: 0 0 0 0;\n",
              "        width: 32px;\n",
              "      }\n",
              "\n",
              "      .colab-df-generate:hover {\n",
              "        background-color: #E2EBFA;\n",
              "        box-shadow: 0px 1px 2px rgba(60, 64, 67, 0.3), 0px 1px 3px 1px rgba(60, 64, 67, 0.15);\n",
              "        fill: #174EA6;\n",
              "      }\n",
              "\n",
              "      [theme=dark] .colab-df-generate {\n",
              "        background-color: #3B4455;\n",
              "        fill: #D2E3FC;\n",
              "      }\n",
              "\n",
              "      [theme=dark] .colab-df-generate:hover {\n",
              "        background-color: #434B5C;\n",
              "        box-shadow: 0px 1px 3px 1px rgba(0, 0, 0, 0.15);\n",
              "        filter: drop-shadow(0px 1px 2px rgba(0, 0, 0, 0.3));\n",
              "        fill: #FFFFFF;\n",
              "      }\n",
              "    </style>\n",
              "    <button class=\"colab-df-generate\" onclick=\"generateWithVariable('train')\"\n",
              "            title=\"Generate code using this dataframe.\"\n",
              "            style=\"display:none;\">\n",
              "\n",
              "  <svg xmlns=\"http://www.w3.org/2000/svg\" height=\"24px\"viewBox=\"0 0 24 24\"\n",
              "       width=\"24px\">\n",
              "    <path d=\"M7,19H8.4L18.45,9,17,7.55,7,17.6ZM5,21V16.75L18.45,3.32a2,2,0,0,1,2.83,0l1.4,1.43a1.91,1.91,0,0,1,.58,1.4,1.91,1.91,0,0,1-.58,1.4L9.25,21ZM18.45,9,17,7.55Zm-12,3A5.31,5.31,0,0,0,4.9,8.1,5.31,5.31,0,0,0,1,6.5,5.31,5.31,0,0,0,4.9,4.9,5.31,5.31,0,0,0,6.5,1,5.31,5.31,0,0,0,8.1,4.9,5.31,5.31,0,0,0,12,6.5,5.46,5.46,0,0,0,6.5,12Z\"/>\n",
              "  </svg>\n",
              "    </button>\n",
              "    <script>\n",
              "      (() => {\n",
              "      const buttonEl =\n",
              "        document.querySelector('#id_99bd0e39-afff-489d-9541-d1c133324db8 button.colab-df-generate');\n",
              "      buttonEl.style.display =\n",
              "        google.colab.kernel.accessAllowed ? 'block' : 'none';\n",
              "\n",
              "      buttonEl.onclick = () => {\n",
              "        google.colab.notebook.generateWithVariable('train');\n",
              "      }\n",
              "      })();\n",
              "    </script>\n",
              "  </div>\n",
              "\n",
              "    </div>\n",
              "  </div>\n"
            ],
            "application/vnd.google.colaboratory.intrinsic+json": {
              "type": "dataframe",
              "variable_name": "train",
              "summary": "{\n  \"name\": \"train\",\n  \"rows\": 630,\n  \"fields\": [\n    {\n      \"column\": \"Snoring Range\",\n      \"properties\": {\n        \"dtype\": \"number\",\n        \"std\": 19.372832993333724,\n        \"min\": 45.0,\n        \"max\": 100.0,\n        \"num_unique_values\": 627,\n        \"samples\": [\n          59.76,\n          47.48,\n          49.04\n        ],\n        \"semantic_type\": \"\",\n        \"description\": \"\"\n      }\n    },\n    {\n      \"column\": \"Respiration Rate\",\n      \"properties\": {\n        \"dtype\": \"number\",\n        \"std\": 3.9661108123894646,\n        \"min\": 16.0,\n        \"max\": 30.0,\n        \"num_unique_values\": 626,\n        \"samples\": [\n          18.496,\n          20.384,\n          21.776\n        ],\n        \"semantic_type\": \"\",\n        \"description\": \"\"\n      }\n    },\n    {\n      \"column\": \"Body Temperature\",\n      \"properties\": {\n        \"dtype\": \"number\",\n        \"std\": 3.52968965519678,\n        \"min\": 85.0,\n        \"max\": 99.0,\n        \"num_unique_values\": 626,\n        \"samples\": [\n          94.496,\n          92.384,\n          97.44\n        ],\n        \"semantic_type\": \"\",\n        \"description\": \"\"\n      }\n    },\n    {\n      \"column\": \"Limb Movement Rate\",\n      \"properties\": {\n        \"dtype\": \"number\",\n        \"std\": 4.299629148055774,\n        \"min\": 4.0,\n        \"max\": 19.0,\n        \"num_unique_values\": 626,\n        \"samples\": [\n          8.496,\n          10.384,\n          11.776\n        ],\n        \"semantic_type\": \"\",\n        \"description\": \"\"\n      }\n    },\n    {\n      \"column\": \"Blood Oxygen\",\n      \"properties\": {\n        \"dtype\": \"number\",\n        \"std\": 3.902483005587982,\n        \"min\": 82.0,\n        \"max\": 97.0,\n        \"num_unique_values\": 626,\n        \"samples\": [\n          92.744,\n          90.384,\n          95.96\n        ],\n        \"semantic_type\": \"\",\n        \"description\": \"\"\n      }\n    },\n    {\n      \"column\": \"Eye Movement\",\n      \"properties\": {\n        \"dtype\": \"number\",\n        \"std\": 11.893746603450516,\n        \"min\": 60.0,\n        \"max\": 105.0,\n        \"num_unique_values\": 626,\n        \"samples\": [\n          81.24,\n          86.92,\n          93.88\n        ],\n        \"semantic_type\": \"\",\n        \"description\": \"\"\n      }\n    },\n    {\n      \"column\": \"Number Of Hours Sleep\",\n      \"properties\": {\n        \"dtype\": \"number\",\n        \"std\": 3.0545720117359716,\n        \"min\": 0.0,\n        \"max\": 9.0,\n        \"num_unique_values\": 501,\n        \"samples\": [\n          4.832,\n          2.768,\n          7.368\n        ],\n        \"semantic_type\": \"\",\n        \"description\": \"\"\n      }\n    },\n    {\n      \"column\": \"Heart Rate\",\n      \"properties\": {\n        \"dtype\": \"number\",\n        \"std\": 9.91527703097366,\n        \"min\": 50.0,\n        \"max\": 85.0,\n        \"num_unique_values\": 626,\n        \"samples\": [\n          56.24,\n          60.96,\n          64.44\n        ],\n        \"semantic_type\": \"\",\n        \"description\": \"\"\n      }\n    },\n    {\n      \"column\": \"Stress Level\",\n      \"properties\": {\n        \"dtype\": \"number\",\n        \"std\": 1,\n        \"min\": 0,\n        \"max\": 4,\n        \"num_unique_values\": 5,\n        \"samples\": [\n          1,\n          4,\n          0\n        ],\n        \"semantic_type\": \"\",\n        \"description\": \"\"\n      }\n    }\n  ]\n}"
            }
          },
          "metadata": {},
          "execution_count": 11
        }
      ],
      "source": [
        "train"
      ]
    },
    {
      "cell_type": "code",
      "execution_count": 12,
      "metadata": {
        "colab": {
          "base_uri": "https://localhost:8080/"
        },
        "id": "HkTKRzxGbh2A",
        "outputId": "4d05f147-533a-4e80-9522-e86a867787cd"
      },
      "outputs": [
        {
          "output_type": "execute_result",
          "data": {
            "text/plain": [
              "array([ 93.8  ,  91.64 ,  60.   ,  85.76 ,  48.12 ,  56.88 ,  47.   ,\n",
              "        50.   ,  45.28 ,  55.52 ,  73.44 ,  59.28 ,  48.6  ,  96.288,\n",
              "        87.8  ,  52.32 ,  52.64 ,  86.24 ,  81.56 ,  63.68 ,  77.6  ,\n",
              "        77.28 ,  69.76 ,  88.04 ,  89.96 ,  53.68 ,  78.56 ,  50.96 ,\n",
              "        94.76 ,  62.08 ,  49.12 ,  96.256,  47.68 ,  99.904,  86.72 ,\n",
              "        48.48 ,  98.528,  46.12 ,  98.72 ,  60.96 ,  65.6  ,  75.36 ,\n",
              "        49.28 ,  73.28 ,  98.912,  62.88 ,  97.664,  56.72 ,  96.576,\n",
              "        49.6  ,  53.6  ,  93.2  ,  46.84 ,  56.08 ,  75.68 ,  97.536,\n",
              "        92.84 ,  87.56 ,  58.48 ,  98.336,  81.08 ,  46.6  ,  61.6  ,\n",
              "        96.448,  50.24 ,  49.92 ,  60.48 ,  99.136,  48.28 ,  50.48 ,\n",
              "        96.192,  57.68 ,  45.16 ,  48.68 ,  98.016,  96.8  ,  56.48 ,\n",
              "        90.08 ,  96.   ,  50.64 ,  50.56 ,  53.92 ,  96.672,  68.32 ,\n",
              "        54.88 ,  52.4  ,  51.6  ,  92.48 ,  98.24 ,  65.12 ,  86.6  ,\n",
              "        68.   ,  99.808,  45.2  ,  63.2  ,  98.272,  75.2  ,  76.96 ,\n",
              "        80.   ,  99.616,  97.216,  45.04 ,  97.376,  53.52 ,  61.44 ,\n",
              "        62.24 ,  79.2  ,  96.96 ,  54.4  ,  68.96 ,  96.608,  47.44 ,\n",
              "        90.56 ,  66.88 ,  97.92 ,  68.64 ,  76.   ,  49.52 ,  54.96 ,\n",
              "        55.28 ,  90.32 ,  97.312,  58.08 ,  83.6  ,  98.112,  98.208,\n",
              "        65.76 ,  57.2  ,  97.568,  68.8  ,  47.8  ,  97.184,  92.72 ,\n",
              "        59.68 ,  48.56 ,  48.36 ,  78.08 ,  96.736,  47.72 ,  71.36 ,\n",
              "        81.44 ,  78.4  ,  49.32 ,  68.48 ,  46.92 ,  48.76 ,  45.08 ,\n",
              "        45.12 ,  50.32 ,  88.52 ,  47.88 ,  96.864,  96.096,  49.   ,\n",
              "        64.64 ,  93.32 ,  74.56 ,  96.32 ,  98.784,  98.88 ,  70.56 ,\n",
              "        55.76 ,  66.08 ,  99.392,  76.8  ,  46.8  ,  47.28 ,  99.776,\n",
              "       100.   ,  59.6  ,  74.72 ,  71.2  ,  58.16 ,  53.44 ,  52.56 ,\n",
              "        54.32 ,  98.08 ,  92.   ,  58.88 ,  55.2  ,  53.36 ,  79.04 ,\n",
              "        58.24 ,  46.2  ,  67.04 ,  47.04 ,  73.76 ,  57.04 ,  72.48 ,\n",
              "        52.8  ,  57.28 ,  96.384,  88.4  ,  98.304,  46.68 ,  45.96 ,\n",
              "        48.64 ,  67.36 ,  88.76 ,  46.36 ,  45.44 ,  48.84 ,  96.64 ,\n",
              "        45.32 ,  67.68 ,  99.552,  58.32 ,  52.08 ,  56.56 ,  82.28 ,\n",
              "        45.48 ,  48.72 ,  93.08 ,  87.44 ,  47.4  ,  77.76 ,  65.28 ,\n",
              "        61.76 ,  59.36 ,  97.088,  47.2  ,  55.68 ,  80.12 ,  96.768,\n",
              "        61.12 ,  97.408,  45.52 ,  91.4  ,  97.056,  57.44 ,  90.44 ,\n",
              "        46.76 ,  45.84 ,  88.64 ,  98.048,  83.12 ,  56.64 ,  98.176,\n",
              "        93.44 ,  84.44 ,  98.432,  80.96 ,  49.08 ,  86.96 ,  79.36 ,\n",
              "        81.2  ,  83.96 ,  51.36 ,  97.248,  60.16 ,  82.76 ,  51.12 ,\n",
              "        92.96 ,  74.88 ,  83.48 ,  97.632,  69.44 ,  99.872,  81.92 ,\n",
              "        73.12 ,  48.88 ,  47.12 ,  56.16 ,  77.44 ,  84.8  ,  74.4  ,\n",
              "        77.92 ,  98.848,  99.04 ,  58.56 ,  46.64 ,  98.656,  51.92 ,\n",
              "        70.08 ,  89.48 ,  96.928,  89.36 ,  94.28 ,  83.36 ,  45.36 ,\n",
              "        94.88 ,  47.24 ,  54.56 ,  89.84 ,  89.   ,  88.28 ,  64.32 ,\n",
              "        96.48 ,  48.24 ,  97.344,  45.88 ,  98.368,  49.68 ,  69.12 ,\n",
              "        59.52 ,  76.48 ,  53.12 ,  86.36 ,  49.36 ,  46.   ,  91.76 ,\n",
              "        65.92 ,  62.56 ,  96.704,  72.32 ,  90.92 ,  48.8  ,  85.04 ,\n",
              "        71.04 ,  55.92 ,  45.56 ,  56.8  ,  49.8  ,  95.   ,  87.2  ,\n",
              "        82.52 ,  48.   ,  91.16 ,  96.032,  71.52 ,  96.064,  89.6  ,\n",
              "        99.68 ,  57.6  ,  70.72 ,  49.4  ,  74.08 ,  96.992,  49.2  ,\n",
              "        51.04 ,  84.68 ,  98.464,  46.24 ,  50.72 ,  47.52 ,  47.08 ,\n",
              "        89.12 ,  45.6  ,  45.68 ,  64.16 ,  92.12 ,  72.64 ,  97.28 ,\n",
              "        49.56 ,  59.44 ,  92.36 ,  97.44 ,  80.72 ,  99.936,  99.168,\n",
              "        85.16 ,  97.696,  75.84 ,  45.   ,  98.496,  64.   ,  81.32 ,\n",
              "        75.52 ,  52.   ,  66.4  ,  71.84 ,  99.072,  49.24 ,  86.48 ,\n",
              "        46.04 ,  58.96 ,  92.24 ,  97.472,  93.92 ,  67.84 ,  46.28 ,\n",
              "        90.2  ,  50.4  ,  70.88 ,  97.792,  47.96 ,  56.24 ,  96.16 ,\n",
              "        55.12 ,  61.92 ,  48.08 ,  84.32 ,  47.32 ,  53.04 ,  57.12 ,\n",
              "        84.92 ,  55.04 ,  99.968,  57.92 ,  96.896,  50.8  ,  98.56 ,\n",
              "        51.84 ,  49.72 ,  83.84 ,  86.84 ,  85.4  ,  80.36 ,  85.64 ,\n",
              "        96.512,  78.72 ,  62.72 ,  84.2  ,  56.4  ,  83.24 ,  90.68 ,\n",
              "        76.16 ,  48.2  ,  97.856,  98.688,  52.24 ,  50.16 ,  45.72 ,\n",
              "        59.12 ,  97.152,  81.8  ,  49.88 ,  52.16 ,  98.624,  98.4  ,\n",
              "        47.84 ,  48.52 ,  56.   ,  58.72 ,  48.04 ,  99.744,  47.36 ,\n",
              "        97.824,  66.56 ,  49.84 ,  72.16 ,  84.08 ,  72.8  ,  77.12 ,\n",
              "        99.456,  88.16 ,  52.88 ,  97.888,  54.08 ,  57.36 ,  51.2  ,\n",
              "        63.36 ,  97.984,  98.752,  82.4  ,  66.24 ,  49.76 ,  59.84 ,\n",
              "        87.92 ,  52.48 ,  87.32 ,  55.44 ,  52.96 ,  54.24 ,  53.76 ,\n",
              "        99.584,  78.88 ,  97.952,  57.52 ,  99.712,  60.8  ,  69.92 ,\n",
              "        51.52 ,  91.28 ,  86.12 ,  76.32 ,  56.32 ,  45.4  ,  48.92 ,\n",
              "        94.16 ,  51.76 ,  45.92 ,  91.04 ,  54.8  ,  49.96 ,  51.28 ,\n",
              "        99.36 ,  47.76 ,  46.96 ,  92.6  ,  68.16 ,  61.28 ,  96.832,\n",
              "        52.72 ,  82.16 ,  63.04 ,  99.232,  63.84 ,  99.424,  60.64 ,\n",
              "        59.2  ,  89.72 ,  46.56 ,  50.08 ,  49.16 ,  46.88 ,  83.72 ,\n",
              "        63.52 ,  96.128,  80.48 ,  45.8  ,  47.16 ,  99.264,  60.32 ,\n",
              "        96.224,  99.008,  50.88 ,  78.24 ,  89.24 ,  47.92 ,  51.68 ,\n",
              "        46.48 ,  82.04 ,  49.64 ,  46.72 ,  67.52 ,  53.28 ,  45.76 ,\n",
              "        46.4  ,  99.52 ,  46.44 ,  99.2  ,  53.84 ,  79.52 ,  96.544,\n",
              "        80.6  ,  79.68 ,  98.944,  47.6  ,  81.68 ,  59.92 ,  48.96 ,\n",
              "        48.16 ,  58.4  ,  97.728,  70.24 ,  85.28 ,  46.32 ,  54.48 ,\n",
              "        87.68 ,  99.296,  80.24 ,  98.816,  64.48 ,  99.648,  64.96 ,\n",
              "        82.64 ,  46.52 ,  91.88 ,  64.8  ,  49.04 ,  75.04 ,  87.08 ,\n",
              "        76.64 ,  85.88 ,  99.488,  51.44 ,  58.   ,  49.48 ,  70.4  ,\n",
              "        72.96 ,  94.4  ,  54.72 ,  80.84 ,  94.64 ,  91.52 ,  97.6  ,\n",
              "        99.84 ,  85.52 ,  54.16 ,  55.36 ,  46.16 ,  96.416,  86.   ,\n",
              "        79.84 ,  90.8  ,  96.352,  55.6  ,  72.   ,  84.56 ,  59.76 ,\n",
              "        83.   ,  74.24 ,  45.24 ,  49.44 ,  66.72 ,  54.   ,  94.52 ,\n",
              "        47.56 ,  47.64 ,  47.48 ,  97.12 ,  69.28 ,  98.976,  45.64 ,\n",
              "        99.104,  99.328,  93.56 ,  57.76 ,  56.96 ,  55.84 ,  48.32 ,\n",
              "        94.04 ,  97.76 ,  67.2  ,  57.84 ,  54.64 ,  93.68 ,  98.592,\n",
              "        88.88 ,  73.6  ,  62.4  ,  82.88 ,  59.04 ,  71.68 ,  48.4  ,\n",
              "        46.08 ,  97.024,  53.2  ,  65.44 ,  98.144,  58.8  ,  69.6  ,\n",
              "        48.44 ,  97.504,  58.64 ,  73.92 ])"
            ]
          },
          "metadata": {},
          "execution_count": 12
        }
      ],
      "source": [
        "#unique values in the column\n",
        "train['Snoring Range'].unique()"
      ]
    },
    {
      "cell_type": "code",
      "execution_count": 13,
      "metadata": {
        "colab": {
          "base_uri": "https://localhost:8080/"
        },
        "id": "SSTCCAb7bh2B",
        "outputId": "770c1f1f-6685-456c-d956-9f51b272d38b"
      },
      "outputs": [
        {
          "output_type": "execute_result",
          "data": {
            "text/plain": [
              "array([74.2 , 72.76, 60.  , 68.84, 53.12, 58.44, 52.  , 55.  , 50.28,\n",
              "       57.76, 63.36, 59.64, 53.6 , 75.72, 70.2 , 56.16, 56.32, 69.16,\n",
              "       66.04, 60.92, 64.4 , 64.32, 62.44, 70.36, 71.64, 56.84, 64.64,\n",
              "       55.48, 74.84, 60.52, 54.12, 75.64, 52.68, 84.76, 69.48, 53.48,\n",
              "       81.32, 51.12, 81.8 , 60.24, 61.4 , 63.84, 54.28, 63.32, 82.28,\n",
              "       60.72, 79.16, 58.36, 76.44, 54.6 , 56.8 , 73.8 , 51.84, 58.04,\n",
              "       63.92, 78.84, 73.56, 70.04, 59.24, 80.84, 65.72, 51.6 , 60.4 ,\n",
              "       76.12, 55.12, 54.92, 60.12, 82.84, 53.28, 55.24, 75.48, 58.84,\n",
              "       50.16, 53.68, 80.04, 77.  , 58.24, 71.72, 75.  , 55.32, 55.28,\n",
              "       56.96, 76.68, 62.08, 57.44, 56.2 , 55.8 , 73.32, 80.6 , 61.28,\n",
              "       69.4 , 62.  , 84.52, 50.2 , 60.8 , 80.68, 63.8 , 64.24, 65.  ,\n",
              "       84.04, 78.04, 50.04, 78.44, 56.76, 60.36, 60.56, 64.8 , 77.4 ,\n",
              "       57.2 , 62.24, 76.52, 52.44, 72.04, 61.72, 79.8 , 62.16, 64.  ,\n",
              "       54.52, 57.48, 57.64, 71.88, 78.28, 59.04, 67.4 , 80.28, 80.52,\n",
              "       61.44, 58.6 , 78.92, 62.2 , 52.8 , 77.96, 73.48, 59.84, 53.56,\n",
              "       53.36, 64.52, 76.84, 52.72, 62.84, 65.96, 64.6 , 54.32, 62.12,\n",
              "       51.92, 53.76, 50.08, 50.12, 55.16, 70.68, 52.88, 77.16, 75.24,\n",
              "       54.  , 61.16, 73.88, 63.64, 75.8 , 81.96, 82.2 , 62.64, 57.88,\n",
              "       61.52, 83.48, 64.2 , 51.8 , 52.28, 84.44, 85.  , 59.8 , 63.68,\n",
              "       62.8 , 59.08, 56.72, 56.28, 57.16, 80.2 , 73.  , 59.44, 57.6 ,\n",
              "       56.68, 64.76, 59.12, 51.2 , 61.76, 52.04, 63.44, 58.52, 63.12,\n",
              "       56.4 , 58.64, 75.96, 70.6 , 80.76, 51.68, 50.96, 53.64, 61.84,\n",
              "       70.84, 51.36, 50.44, 53.84, 76.6 , 50.32, 61.92, 83.88, 59.16,\n",
              "       56.04, 58.28, 66.52, 50.48, 53.72, 73.72, 69.96, 52.4 , 64.44,\n",
              "       61.32, 60.44, 59.68, 77.72, 52.2 , 57.84, 65.08, 76.92, 60.28,\n",
              "       78.52, 50.52, 72.6 , 77.64, 58.72, 71.96, 51.76, 50.84, 70.76,\n",
              "       80.12, 67.08, 58.32, 80.44, 73.96, 67.96, 81.08, 65.64, 54.08,\n",
              "       69.64, 64.84, 65.8 , 67.64, 55.68, 78.12, 60.04, 66.84, 55.56,\n",
              "       73.64, 63.72, 67.32, 79.08, 62.36, 84.68, 66.28, 63.28, 53.88,\n",
              "       52.12, 58.08, 64.36, 68.2 , 63.6 , 64.48, 82.12, 82.6 , 59.28,\n",
              "       51.64, 81.64, 55.96, 62.52, 71.32, 77.32, 71.24, 74.52, 67.24,\n",
              "       50.36, 74.92, 52.24, 57.28, 71.56, 71.  , 70.52, 61.08, 76.2 ,\n",
              "       53.24, 78.36, 50.88, 80.92, 54.68, 62.28, 59.76, 64.12, 56.56,\n",
              "       69.24, 54.36, 51.  , 72.84, 61.48, 60.64, 76.76, 63.08, 72.28,\n",
              "       53.8 , 68.36, 62.76, 57.96, 50.56, 58.4 , 54.8 , 69.8 , 66.68,\n",
              "       53.  , 72.44, 75.08, 62.88, 75.16, 71.4 , 84.2 , 58.8 , 62.68,\n",
              "       54.4 , 63.52, 77.48, 54.2 , 55.52, 68.12, 81.16, 51.24, 55.36,\n",
              "       52.52, 52.08, 71.08, 50.6 , 50.68, 61.04, 73.08, 63.16, 78.2 ,\n",
              "       54.56, 59.72, 73.24, 78.6 , 65.48, 84.84, 82.92, 68.44, 79.24,\n",
              "       63.96, 50.  , 81.24, 61.  , 65.88, 63.88, 56.  , 61.6 , 62.96,\n",
              "       82.68, 54.24, 69.32, 51.04, 59.48, 73.16, 78.68, 74.28, 61.96,\n",
              "       51.28, 71.8 , 55.2 , 62.72, 79.48, 52.96, 58.12, 75.4 , 57.56,\n",
              "       60.48, 53.08, 67.88, 52.32, 56.52, 58.56, 68.28, 57.52, 84.92,\n",
              "       58.96, 77.24, 55.4 , 81.4 , 55.92, 54.72, 67.56, 69.56, 68.6 ,\n",
              "       65.24, 68.76, 76.28, 64.68, 60.68, 67.8 , 58.2 , 67.16, 72.12,\n",
              "       64.04, 53.2 , 79.64, 81.72, 56.12, 55.08, 50.72, 59.56, 77.88,\n",
              "       66.2 , 54.88, 56.08, 81.56, 81.  , 52.84, 53.52, 58.  , 59.36,\n",
              "       53.04, 84.36, 52.36, 79.56, 61.64, 54.84, 63.04, 67.72, 63.2 ,\n",
              "       64.28, 83.64, 70.44, 56.44, 79.72, 57.04, 58.68, 55.6 , 60.84,\n",
              "       79.96, 81.88, 66.6 , 61.56, 54.76, 59.92, 70.28, 56.24, 69.88,\n",
              "       57.72, 56.48, 57.12, 56.88, 83.96, 64.72, 79.88, 58.76, 84.28,\n",
              "       60.2 , 62.48, 55.76, 72.52, 69.08, 64.08, 58.16, 50.4 , 53.92,\n",
              "       74.44, 55.88, 50.92, 72.36, 57.4 , 54.96, 55.64, 83.4 , 52.76,\n",
              "       51.96, 73.4 , 62.04, 60.32, 77.08, 56.36, 66.44, 60.76, 83.08,\n",
              "       60.96, 83.56, 60.16, 59.6 , 71.48, 51.56, 55.04, 54.16, 51.88,\n",
              "       67.48, 60.88, 75.32, 65.32, 50.8 , 52.16, 83.16, 60.08, 75.56,\n",
              "       82.52, 55.44, 64.56, 71.16, 52.92, 55.84, 51.48, 66.36, 54.64,\n",
              "       51.72, 61.88, 56.64, 50.76, 51.4 , 83.8 , 51.44, 83.  , 56.92,\n",
              "       64.88, 76.36, 65.4 , 64.92, 82.36, 52.6 , 66.12, 59.96, 53.96,\n",
              "       53.16, 59.2 , 79.32, 62.56, 68.52, 51.32, 57.24, 70.12, 83.24,\n",
              "       65.16, 82.04, 61.12, 84.12, 61.24, 66.76, 51.52, 72.92, 61.2 ,\n",
              "       54.04, 63.76, 69.72, 64.16, 68.92, 83.72, 55.72, 59.  , 54.48,\n",
              "       62.6 , 63.24, 74.6 , 57.36, 65.56, 74.76, 72.68, 79.  , 84.6 ,\n",
              "       68.68, 57.08, 57.68, 51.16, 76.04, 69.  , 64.96, 72.2 , 75.88,\n",
              "       57.8 , 63.  , 68.04, 59.88, 67.  , 63.56, 50.24, 54.44, 61.68,\n",
              "       57.  , 74.68, 52.56, 52.64, 52.48, 77.8 , 62.32, 82.44, 50.64,\n",
              "       82.76, 83.32, 74.04, 58.88, 58.48, 57.92, 53.32, 74.36, 79.4 ,\n",
              "       61.8 , 58.92, 57.32, 74.12, 81.48, 70.92, 63.4 , 60.6 , 66.92,\n",
              "       59.52, 62.92, 53.4 , 51.08, 77.56, 56.6 , 61.36, 80.36, 59.4 ,\n",
              "       62.4 , 53.44, 78.76, 59.32, 63.48])"
            ]
          },
          "metadata": {},
          "execution_count": 13
        }
      ],
      "source": [
        "train['Heart Rate'].unique()"
      ]
    },
    {
      "cell_type": "code",
      "execution_count": 14,
      "metadata": {
        "colab": {
          "base_uri": "https://localhost:8080/"
        },
        "id": "ahFpcCW2bh2B",
        "outputId": "5e28e692-4141-421e-eaab-bfe979da3ee6"
      },
      "outputs": [
        {
          "output_type": "execute_result",
          "data": {
            "text/plain": [
              "array([89.84 , 89.552, 95.   , 88.768, 96.248, 94.064, 95.8  , 97.   ,\n",
              "       95.112, 93.656, 91.344, 94.784, 96.44 , 82.432, 89.04 , 92.696,\n",
              "       92.792, 88.832, 88.208, 90.368, 91.76 , 91.728, 90.976, 89.072,\n",
              "       89.328, 93.104, 91.856, 92.288, 89.968, 90.208, 96.648, 82.384,\n",
              "       96.072, 87.856, 90.   , 88.896, 96.392, 85.792, 95.448, 86.08 ,\n",
              "       90.096, 90.56 , 91.536, 96.712, 91.328, 86.368, 90.288, 84.496,\n",
              "       94.016, 82.864, 96.84 , 93.08 , 89.76 , 95.736, 93.824, 91.568,\n",
              "       84.304, 89.712, 89.008, 94.544, 85.504, 88.144, 95.64 , 90.16 ,\n",
              "       82.672, 92.072, 96.968, 90.048, 86.704, 96.312, 92.144, 82.288,\n",
              "       94.304, 95.064, 96.472, 85.024, 83.2  , 93.944, 89.344, 82.   ,\n",
              "       92.192, 92.168, 93.176, 83.008, 90.832, 93.464, 92.72 , 92.48 ,\n",
              "       89.664, 85.36 , 90.512, 88.88 , 90.8  , 87.712, 95.08 , 90.32 ,\n",
              "       85.408, 91.52 , 91.696, 88.   , 87.424, 83.824, 95.016, 84.064,\n",
              "       93.056, 90.144, 90.224, 91.92 , 83.44 , 93.32 , 90.896, 82.912,\n",
              "       95.976, 89.408, 90.688, 84.88 , 90.864, 91.6  , 96.808, 93.488,\n",
              "       93.584, 89.376, 83.968, 94.424, 88.48 , 85.168, 85.312, 90.576,\n",
              "       94.16 , 84.352, 90.88 , 96.12 , 83.776, 89.696, 94.904, 96.424,\n",
              "       96.344, 91.808, 83.104, 96.088, 91.136, 88.192, 91.84 , 96.728,\n",
              "       90.848, 95.768, 96.504, 95.032, 95.048, 92.096, 89.136, 96.152,\n",
              "       83.296, 82.144, 96.6  , 90.464, 89.776, 91.456, 82.48 , 86.176,\n",
              "       86.32 , 91.056, 93.728, 90.608, 87.088, 91.68 , 95.72 , 95.912,\n",
              "       87.664, 94.88 , 91.472, 91.12 , 94.448, 93.032, 92.768, 93.296,\n",
              "       85.12 , 89.6  , 94.664, 93.56 , 93.008, 91.904, 94.472, 95.48 ,\n",
              "       90.704, 95.816, 91.376, 94.112, 91.248, 92.84 , 94.184, 82.576,\n",
              "       89.12 , 85.456, 95.672, 95.384, 96.456, 90.736, 89.168, 95.544,\n",
              "       95.176, 96.536, 92.   , 82.96 , 95.128, 90.768, 87.328, 94.496,\n",
              "       92.624, 93.968, 88.304, 95.192, 96.488, 89.744, 88.992, 95.96 ,\n",
              "       91.776, 90.528, 90.176, 94.808, 83.632, 95.88 , 93.704, 88.016,\n",
              "       83.152, 90.112, 84.112, 95.208, 89.52 , 83.584, 94.232, 89.392,\n",
              "       95.704, 95.336, 89.152, 85.072, 88.416, 93.992, 85.264, 89.792,\n",
              "       88.592, 85.648, 88.128, 96.632, 88.928, 91.936, 88.16 , 88.528,\n",
              "       92.408, 83.872, 90.016, 88.368, 92.336, 89.728, 91.488, 88.464,\n",
              "       84.448, 90.944, 87.808, 88.256, 91.312, 96.552, 95.848, 93.848,\n",
              "       91.744, 88.64 , 91.44 , 91.792, 86.272, 86.56 , 94.568, 95.656,\n",
              "       85.984, 92.576, 91.008, 89.264, 83.392, 89.248, 89.904, 88.448,\n",
              "       95.144, 89.984, 95.896, 93.368, 89.312, 89.2  , 89.104, 90.432,\n",
              "       82.72 , 96.296, 84.016, 95.352, 85.552, 96.872, 90.912, 94.856,\n",
              "       91.648, 92.936, 88.848, 96.744, 95.4  , 89.568, 90.592, 90.256,\n",
              "       83.056, 91.232, 89.456, 96.52 , 88.672, 91.104, 93.776, 95.224,\n",
              "       94.04 , 96.92 , 88.96 , 88.336, 96.2  , 89.488, 82.048, 91.152,\n",
              "       82.096, 89.28 , 87.52 , 94.28 , 91.072, 96.76 , 91.408, 83.488,\n",
              "       96.68 , 92.312, 88.624, 85.696, 95.496, 92.216, 96.008, 95.832,\n",
              "       89.216, 95.24 , 95.272, 90.416, 89.616, 91.264, 83.92 , 96.824,\n",
              "       94.832, 89.648, 84.16 , 88.096, 87.904, 86.752, 88.688, 84.544,\n",
              "       91.584, 85.744, 90.4  , 88.176, 91.552, 92.6  , 90.64 , 91.184,\n",
              "       86.608, 96.696, 88.864, 95.416, 94.688, 89.632, 84.208, 89.856,\n",
              "       90.784, 95.512, 89.36 , 92.12 , 91.088, 84.688, 96.184, 93.872,\n",
              "       82.24 , 93.536, 90.192, 96.232, 88.576, 95.928, 92.912, 94.136,\n",
              "       88.656, 93.512, 87.952, 94.376, 83.344, 92.24 , 85.84 , 92.552,\n",
              "       96.888, 88.512, 88.912, 88.72 , 88.048, 88.752, 82.768, 91.872,\n",
              "       90.272, 88.56 , 93.92 , 88.432, 89.424, 91.616, 96.28 , 84.784,\n",
              "       86.032, 92.672, 92.048, 95.288, 94.736, 83.728, 88.24 , 96.952,\n",
              "       92.648, 85.936, 85.6  , 96.136, 96.408, 93.8  , 94.616, 96.216,\n",
              "       87.616, 95.944, 84.736, 90.656, 96.936, 91.216, 88.544, 91.28 ,\n",
              "       91.712, 87.184, 89.088, 92.864, 84.832, 93.224, 94.208, 92.36 ,\n",
              "       90.336, 84.976, 86.128, 88.32 , 90.624, 96.904, 94.952, 89.056,\n",
              "       92.744, 88.976, 93.632, 92.888, 93.272, 93.128, 87.376, 91.888,\n",
              "       84.928, 94.256, 87.568, 90.08 , 90.992, 92.456, 89.504, 88.816,\n",
              "       91.632, 93.896, 95.16 , 96.568, 89.888, 92.528, 95.368, 89.472,\n",
              "       93.44 , 96.984, 92.384, 87.04 , 96.104, 95.784, 89.68 , 90.816,\n",
              "       90.128, 83.248, 92.816, 88.288, 90.304, 86.848, 90.384, 87.136,\n",
              "       90.064, 94.76 , 89.296, 95.624, 92.024, 96.664, 95.752, 88.496,\n",
              "       90.352, 82.192, 88.064, 95.32 , 95.864, 86.896, 90.032, 82.336,\n",
              "       86.512, 92.264, 91.824, 89.232, 96.168, 92.504, 95.592, 88.272,\n",
              "       96.856, 95.688, 90.752, 92.984, 95.304, 95.56 , 87.28 , 95.576,\n",
              "       86.8  , 93.152, 91.952, 82.816, 88.08 , 91.968, 86.416, 96.04 ,\n",
              "       88.224, 94.976, 96.584, 96.264, 94.52 , 84.592, 91.024, 88.704,\n",
              "       95.528, 93.344, 89.024, 86.944, 88.032, 86.224, 90.448, 87.472,\n",
              "       90.496, 88.352, 95.608, 89.584, 90.48 , 96.616, 91.504, 88.944,\n",
              "       91.664, 88.784, 87.232, 92.432, 94.4  , 96.792, 91.04 , 91.296,\n",
              "       89.92 , 93.416, 88.112, 89.952, 89.536, 84.4  , 87.76 , 88.736,\n",
              "       93.248, 93.608, 95.464, 82.624, 88.8  , 91.984, 89.44 , 82.528,\n",
              "       93.68 , 91.2  , 88.608, 94.928, 88.4  , 91.424, 95.096, 96.776,\n",
              "       90.672, 93.2  , 89.936, 96.024, 96.056, 95.992, 83.68 , 90.928,\n",
              "       86.464, 95.256, 86.656, 86.992, 89.808, 94.328, 94.088, 93.752,\n",
              "       96.328, 89.872, 84.64 , 90.72 , 94.352, 93.392, 89.824, 85.888,\n",
              "       89.184, 91.36 , 90.24 , 88.384, 94.712, 91.168, 96.36 , 95.432,\n",
              "       83.536, 92.96 , 90.544, 85.216, 94.64 , 90.96 , 96.376, 84.256,\n",
              "       94.592, 91.392])"
            ]
          },
          "metadata": {},
          "execution_count": 14
        }
      ],
      "source": [
        "train['Blood Oxygen'].unique()"
      ]
    },
    {
      "cell_type": "code",
      "execution_count": 15,
      "metadata": {
        "colab": {
          "base_uri": "https://localhost:8080/"
        },
        "id": "0ZPyNKBkbh2B",
        "outputId": "92eefb06-0403-44cb-bb01-87bf8bec687b"
      },
      "outputs": [
        {
          "output_type": "execute_result",
          "data": {
            "text/plain": [
              "array([3, 1, 0, 2, 4])"
            ]
          },
          "metadata": {},
          "execution_count": 15
        }
      ],
      "source": [
        "#unique values in the last column(stress level)\n",
        "train['Stress Level'].unique()"
      ]
    },
    {
      "cell_type": "code",
      "execution_count": 16,
      "metadata": {
        "colab": {
          "base_uri": "https://localhost:8080/",
          "height": 272
        },
        "id": "wbhKw3N3bh2B",
        "outputId": "a041c706-8e13-4cf7-ca0e-56507f4321df"
      },
      "outputs": [
        {
          "output_type": "execute_result",
          "data": {
            "text/plain": [
              "Stress Level\n",
              "3    126\n",
              "1    126\n",
              "0    126\n",
              "2    126\n",
              "4    126\n",
              "Name: count, dtype: int64"
            ],
            "text/html": [
              "<div>\n",
              "<style scoped>\n",
              "    .dataframe tbody tr th:only-of-type {\n",
              "        vertical-align: middle;\n",
              "    }\n",
              "\n",
              "    .dataframe tbody tr th {\n",
              "        vertical-align: top;\n",
              "    }\n",
              "\n",
              "    .dataframe thead th {\n",
              "        text-align: right;\n",
              "    }\n",
              "</style>\n",
              "<table border=\"1\" class=\"dataframe\">\n",
              "  <thead>\n",
              "    <tr style=\"text-align: right;\">\n",
              "      <th></th>\n",
              "      <th>count</th>\n",
              "    </tr>\n",
              "    <tr>\n",
              "      <th>Stress Level</th>\n",
              "      <th></th>\n",
              "    </tr>\n",
              "  </thead>\n",
              "  <tbody>\n",
              "    <tr>\n",
              "      <th>3</th>\n",
              "      <td>126</td>\n",
              "    </tr>\n",
              "    <tr>\n",
              "      <th>1</th>\n",
              "      <td>126</td>\n",
              "    </tr>\n",
              "    <tr>\n",
              "      <th>0</th>\n",
              "      <td>126</td>\n",
              "    </tr>\n",
              "    <tr>\n",
              "      <th>2</th>\n",
              "      <td>126</td>\n",
              "    </tr>\n",
              "    <tr>\n",
              "      <th>4</th>\n",
              "      <td>126</td>\n",
              "    </tr>\n",
              "  </tbody>\n",
              "</table>\n",
              "</div><br><label><b>dtype:</b> int64</label>"
            ]
          },
          "metadata": {},
          "execution_count": 16
        }
      ],
      "source": [
        "#count of each stress level in the dataset\n",
        "train['Stress Level'].value_counts()"
      ]
    },
    {
      "cell_type": "code",
      "execution_count": 17,
      "metadata": {
        "colab": {
          "base_uri": "https://localhost:8080/"
        },
        "id": "ofiEBDq8bh2C",
        "outputId": "8a59d328-6c87-4d06-a652-279df2557e75"
      },
      "outputs": [
        {
          "output_type": "stream",
          "name": "stdout",
          "text": [
            "<class 'pandas.core.frame.DataFrame'>\n",
            "RangeIndex: 630 entries, 0 to 629\n",
            "Data columns (total 9 columns):\n",
            " #   Column                 Non-Null Count  Dtype  \n",
            "---  ------                 --------------  -----  \n",
            " 0   Snoring Range          630 non-null    float64\n",
            " 1   Respiration Rate       630 non-null    float64\n",
            " 2   Body Temperature       630 non-null    float64\n",
            " 3   Limb Movement Rate     630 non-null    float64\n",
            " 4   Blood Oxygen           630 non-null    float64\n",
            " 5   Eye Movement           630 non-null    float64\n",
            " 6   Number Of Hours Sleep  630 non-null    float64\n",
            " 7   Heart Rate             630 non-null    float64\n",
            " 8   Stress Level           630 non-null    int64  \n",
            "dtypes: float64(8), int64(1)\n",
            "memory usage: 44.4 KB\n"
          ]
        }
      ],
      "source": [
        "train.info()"
      ]
    },
    {
      "cell_type": "code",
      "execution_count": 18,
      "metadata": {
        "id": "csq-wCXGIM7x",
        "outputId": "f3b4e61e-6a4b-4b00-aa1d-32f5f85a0e39",
        "colab": {
          "base_uri": "https://localhost:8080/",
          "height": 523
        }
      },
      "outputs": [
        {
          "output_type": "execute_result",
          "data": {
            "text/plain": [
              "np.float64(0.11393461423002128)"
            ]
          },
          "metadata": {},
          "execution_count": 18
        },
        {
          "output_type": "display_data",
          "data": {
            "text/plain": [
              "<Figure size 500x500 with 1 Axes>"
            ],
            "image/png": "[encoded data removed]"
          },
          "metadata": {}
        }
      ],
      "source": [
        "sns.displot(train[\"Snoring Range\"],kind='kde')\n",
        "train['Snoring Range'].skew()"
      ]
    },
    {
      "cell_type": "code",
      "execution_count": 19,
      "metadata": {
        "id": "5bwl3LFqIM7x",
        "outputId": "740d3b87-48c4-487f-ad1c-9dc23cf8ed57",
        "colab": {
          "base_uri": "https://localhost:8080/",
          "height": 523
        }
      },
      "outputs": [
        {
          "output_type": "execute_result",
          "data": {
            "text/plain": [
              "np.float64(0.45586254719845326)"
            ]
          },
          "metadata": {},
          "execution_count": 19
        },
        {
          "output_type": "display_data",
          "data": {
            "text/plain": [
              "<Figure size 500x500 with 1 Axes>"
            ],
            "image/png": "[encoded data removed]"
          },
          "metadata": {}
        }
      ],
      "source": [
        "sns.displot(train['Respiration Rate'],kind='kde')\n",
        "train['Respiration Rate'].skew()"
      ]
    },
    {
      "cell_type": "code",
      "execution_count": 20,
      "metadata": {
        "colab": {
          "base_uri": "https://localhost:8080/",
          "height": 523
        },
        "id": "kHTrhPE9bh2C",
        "outputId": "542c58c6-0b3e-4207-fd1e-5850dc4ec5d0"
      },
      "outputs": [
        {
          "output_type": "execute_result",
          "data": {
            "text/plain": [
              "np.float64(-0.2857511600166689)"
            ]
          },
          "metadata": {},
          "execution_count": 20
        },
        {
          "output_type": "display_data",
          "data": {
            "text/plain": [
              "<Figure size 500x500 with 1 Axes>"
            ],
            "image/png": "[encoded data removed]"
          },
          "metadata": {}
        }
      ],
      "source": [
        "sns.displot(train[\"Body Temperature\"], kind='kde')\n",
        "train['Body Temperature'].skew()"
      ]
    },
    {
      "cell_type": "code",
      "execution_count": 21,
      "metadata": {
        "colab": {
          "base_uri": "https://localhost:8080/",
          "height": 523
        },
        "id": "I-Jsrv_lbh2C",
        "outputId": "4c08a39d-10d9-48d2-99a7-2dcc9d6fdd58"
      },
      "outputs": [
        {
          "output_type": "execute_result",
          "data": {
            "text/plain": [
              "np.float64(0.16266707843026826)"
            ]
          },
          "metadata": {},
          "execution_count": 21
        },
        {
          "output_type": "display_data",
          "data": {
            "text/plain": [
              "<Figure size 500x500 with 1 Axes>"
            ],
            "image/png": "[encoded data removed]"
          },
          "metadata": {}
        }
      ],
      "source": [
        "sns.displot(train[\"Limb Movement Rate\"],kind='kde')\n",
        "train['Limb Movement Rate'].skew()"
      ]
    },
    {
      "cell_type": "code",
      "execution_count": 22,
      "metadata": {
        "colab": {
          "base_uri": "https://localhost:8080/",
          "height": 523
        },
        "id": "kEUyzuRGbh2C",
        "outputId": "b2f89788-6275-4673-ed1d-7b8a2e1f2049"
      },
      "outputs": [
        {
          "output_type": "execute_result",
          "data": {
            "text/plain": [
              "np.float64(-0.3606553282300263)"
            ]
          },
          "metadata": {},
          "execution_count": 22
        },
        {
          "output_type": "display_data",
          "data": {
            "text/plain": [
              "<Figure size 500x500 with 1 Axes>"
            ],
            "image/png": "[encoded data removed]"
          },
          "metadata": {}
        }
      ],
      "source": [
        "sns.displot(train[\"Blood Oxygen\"], kind='kde')\n",
        "train['Blood Oxygen'].skew()"
      ]
    },
    {
      "cell_type": "code",
      "execution_count": 23,
      "metadata": {
        "colab": {
          "base_uri": "https://localhost:8080/",
          "height": 523
        },
        "id": "0XpWC8Y3bh2C",
        "outputId": "bab167ba-53c2-4cc9-ce02-83a7eec44214"
      },
      "outputs": [
        {
          "output_type": "execute_result",
          "data": {
            "text/plain": [
              "np.float64(-0.5738786598112939)"
            ]
          },
          "metadata": {},
          "execution_count": 23
        },
        {
          "output_type": "display_data",
          "data": {
            "text/plain": [
              "<Figure size 500x500 with 1 Axes>"
            ],
            "image/png": "[encoded data removed]"
          },
          "metadata": {}
        }
      ],
      "source": [
        "sns.displot(train[\"Eye Movement\"], kind='kde')\n",
        "train['Eye Movement'].skew()"
      ]
    },
    {
      "cell_type": "code",
      "execution_count": 24,
      "metadata": {
        "colab": {
          "base_uri": "https://localhost:8080/",
          "height": 523
        },
        "id": "PNlGGWPvbh2C",
        "outputId": "a0f5be24-c65c-4240-9faa-921e4fc78ca6"
      },
      "outputs": [
        {
          "output_type": "execute_result",
          "data": {
            "text/plain": [
              "np.float64(0.17511258649719963)"
            ]
          },
          "metadata": {},
          "execution_count": 24
        },
        {
          "output_type": "display_data",
          "data": {
            "text/plain": [
              "<Figure size 500x500 with 1 Axes>"
            ],
            "image/png": "[encoded data removed]"
          },
          "metadata": {}
        }
      ],
      "source": [
        "sns.displot(train[\"Number Of Hours Sleep\"], kind='kde')\n",
        "train['Number Of Hours Sleep'].skew()"
      ]
    },
    {
      "cell_type": "code",
      "execution_count": 25,
      "metadata": {
        "colab": {
          "base_uri": "https://localhost:8080/",
          "height": 523
        },
        "id": "UM_RclJcbh2D",
        "outputId": "96b473e8-9316-41eb-9804-a4ef077e886d"
      },
      "outputs": [
        {
          "output_type": "execute_result",
          "data": {
            "text/plain": [
              "np.float64(0.4558625471984541)"
            ]
          },
          "metadata": {},
          "execution_count": 25
        },
        {
          "output_type": "display_data",
          "data": {
            "text/plain": [
              "<Figure size 500x500 with 1 Axes>"
            ],
            "image/png": "[encoded data removed]"
          },
          "metadata": {}
        }
      ],
      "source": [
        "sns.displot(train[\"Heart Rate\"],kind='kde')\n",
        "train['Heart Rate'].skew()"
      ]
    },
    {
      "cell_type": "code",
      "execution_count": 26,
      "metadata": {
        "colab": {
          "base_uri": "https://localhost:8080/"
        },
        "id": "hHgrZrrVbh2D",
        "outputId": "3d22adc0-1622-4565-b51b-70a67f997168"
      },
      "outputs": [
        {
          "output_type": "execute_result",
          "data": {
            "text/plain": [
              "(126, 9)"
            ]
          },
          "metadata": {},
          "execution_count": 26
        }
      ],
      "source": [
        "train[train['Stress Level']==1].shape"
      ]
    },
    {
      "cell_type": "code",
      "execution_count": 27,
      "metadata": {
        "colab": {
          "base_uri": "https://localhost:8080/"
        },
        "id": "ajBFRcVGbh2D",
        "outputId": "9299a60f-9010-48af-d7a5-178a637994f2"
      },
      "outputs": [
        {
          "output_type": "stream",
          "name": "stdout",
          "text": [
            "<class 'pandas.core.frame.DataFrame'>\n",
            "RangeIndex: 630 entries, 0 to 629\n",
            "Data columns (total 9 columns):\n",
            " #   Column                 Non-Null Count  Dtype  \n",
            "---  ------                 --------------  -----  \n",
            " 0   Snoring Range          630 non-null    float64\n",
            " 1   Respiration Rate       630 non-null    float64\n",
            " 2   Body Temperature       630 non-null    float64\n",
            " 3   Limb Movement Rate     630 non-null    float64\n",
            " 4   Blood Oxygen           630 non-null    float64\n",
            " 5   Eye Movement           630 non-null    float64\n",
            " 6   Number Of Hours Sleep  630 non-null    float64\n",
            " 7   Heart Rate             630 non-null    float64\n",
            " 8   Stress Level           630 non-null    int64  \n",
            "dtypes: float64(8), int64(1)\n",
            "memory usage: 44.4 KB\n"
          ]
        }
      ],
      "source": [
        "train.info()"
      ]
    },
    {
      "cell_type": "code",
      "execution_count": 28,
      "metadata": {
        "colab": {
          "base_uri": "https://localhost:8080/",
          "height": 206
        },
        "id": "z-cO_ju_bh2D",
        "outputId": "f84e55c7-df33-469a-d786-b3a8866c7130"
      },
      "outputs": [
        {
          "output_type": "execute_result",
          "data": {
            "text/plain": [
              "   Snoring Range  Respiration Rate  Body Temperature  Limb Movement Rate  \\\n",
              "0          93.80            25.680            91.840              16.600   \n",
              "1          91.64            25.104            91.552              15.880   \n",
              "2          60.00            20.000            96.000              10.000   \n",
              "3          85.76            23.536            90.768              13.920   \n",
              "4          48.12            17.248            97.872               6.496   \n",
              "\n",
              "   Blood Oxygen  Eye Movement  Number Of Hours Sleep  Heart Rate  Stress Level  \n",
              "0        89.840         99.60                  1.840       74.20             3  \n",
              "1        89.552         98.88                  1.552       72.76             3  \n",
              "2        95.000         85.00                  7.000       60.00             1  \n",
              "3        88.768         96.92                  0.768       68.84             3  \n",
              "4        96.248         72.48                  8.248       53.12             0  "
            ],
            "text/html": [
              "\n",
              "  <div id=\"df-18c8cccc-bd9b-4339-94b1-20f53a77392f\" class=\"colab-df-container\">\n",
              "    <div>\n",
              "<style scoped>\n",
              "    .dataframe tbody tr th:only-of-type {\n",
              "        vertical-align: middle;\n",
              "    }\n",
              "\n",
              "    .dataframe tbody tr th {\n",
              "        vertical-align: top;\n",
              "    }\n",
              "\n",
              "    .dataframe thead th {\n",
              "        text-align: right;\n",
              "    }\n",
              "</style>\n",
              "<table border=\"1\" class=\"dataframe\">\n",
              "  <thead>\n",
              "    <tr style=\"text-align: right;\">\n",
              "      <th></th>\n",
              "      <th>Snoring Range</th>\n",
              "      <th>Respiration Rate</th>\n",
              "      <th>Body Temperature</th>\n",
              "      <th>Limb Movement Rate</th>\n",
              "      <th>Blood Oxygen</th>\n",
              "      <th>Eye Movement</th>\n",
              "      <th>Number Of Hours Sleep</th>\n",
              "      <th>Heart Rate</th>\n",
              "      <th>Stress Level</th>\n",
              "    </tr>\n",
              "  </thead>\n",
              "  <tbody>\n",
              "    <tr>\n",
              "      <th>0</th>\n",
              "      <td>93.80</td>\n",
              "      <td>25.680</td>\n",
              "      <td>91.840</td>\n",
              "      <td>16.600</td>\n",
              "      <td>89.840</td>\n",
              "      <td>99.60</td>\n",
              "      <td>1.840</td>\n",
              "      <td>74.20</td>\n",
              "      <td>3</td>\n",
              "    </tr>\n",
              "    <tr>\n",
              "      <th>1</th>\n",
              "      <td>91.64</td>\n",
              "      <td>25.104</td>\n",
              "      <td>91.552</td>\n",
              "      <td>15.880</td>\n",
              "      <td>89.552</td>\n",
              "      <td>98.88</td>\n",
              "      <td>1.552</td>\n",
              "      <td>72.76</td>\n",
              "      <td>3</td>\n",
              "    </tr>\n",
              "    <tr>\n",
              "      <th>2</th>\n",
              "      <td>60.00</td>\n",
              "      <td>20.000</td>\n",
              "      <td>96.000</td>\n",
              "      <td>10.000</td>\n",
              "      <td>95.000</td>\n",
              "      <td>85.00</td>\n",
              "      <td>7.000</td>\n",
              "      <td>60.00</td>\n",
              "      <td>1</td>\n",
              "    </tr>\n",
              "    <tr>\n",
              "      <th>3</th>\n",
              "      <td>85.76</td>\n",
              "      <td>23.536</td>\n",
              "      <td>90.768</td>\n",
              "      <td>13.920</td>\n",
              "      <td>88.768</td>\n",
              "      <td>96.92</td>\n",
              "      <td>0.768</td>\n",
              "      <td>68.84</td>\n",
              "      <td>3</td>\n",
              "    </tr>\n",
              "    <tr>\n",
              "      <th>4</th>\n",
              "      <td>48.12</td>\n",
              "      <td>17.248</td>\n",
              "      <td>97.872</td>\n",
              "      <td>6.496</td>\n",
              "      <td>96.248</td>\n",
              "      <td>72.48</td>\n",
              "      <td>8.248</td>\n",
              "      <td>53.12</td>\n",
              "      <td>0</td>\n",
              "    </tr>\n",
              "  </tbody>\n",
              "</table>\n",
              "</div>\n",
              "    <div class=\"colab-df-buttons\">\n",
              "\n",
              "  <div class=\"colab-df-container\">\n",
              "    <button class=\"colab-df-convert\" onclick=\"convertToInteractive('df-18c8cccc-bd9b-4339-94b1-20f53a77392f')\"\n",
              "            title=\"Convert this dataframe to an interactive table.\"\n",
              "            style=\"display:none;\">\n",
              "\n",
              "  <svg xmlns=\"http://www.w3.org/2000/svg\" height=\"24px\" viewBox=\"0 -960 960 960\">\n",
              "    <path d=\"M120-120v-720h720v720H120Zm60-500h600v-160H180v160Zm220 220h160v-160H400v160Zm0 220h160v-160H400v160ZM180-400h160v-160H180v160Zm440 0h160v-160H620v160ZM180-180h160v-160H180v160Zm440 0h160v-160H620v160Z\"/>\n",
              "  </svg>\n",
              "    </button>\n",
              "\n",
              "  <style>\n",
              "    .colab-df-container {\n",
              "      display:flex;\n",
              "      gap: 12px;\n",
              "    }\n",
              "\n",
              "    .colab-df-convert {\n",
              "      background-color: #E8F0FE;\n",
              "      border: none;\n",
              "      border-radius: 50%;\n",
              "      cursor: pointer;\n",
              "      display: none;\n",
              "      fill: #1967D2;\n",
              "      height: 32px;\n",
              "      padding: 0 0 0 0;\n",
              "      width: 32px;\n",
              "    }\n",
              "\n",
              "    .colab-df-convert:hover {\n",
              "      background-color: #E2EBFA;\n",
              "      box-shadow: 0px 1px 2px rgba(60, 64, 67, 0.3), 0px 1px 3px 1px rgba(60, 64, 67, 0.15);\n",
              "      fill: #174EA6;\n",
              "    }\n",
              "\n",
              "    .colab-df-buttons div {\n",
              "      margin-bottom: 4px;\n",
              "    }\n",
              "\n",
              "    [theme=dark] .colab-df-convert {\n",
              "      background-color: #3B4455;\n",
              "      fill: #D2E3FC;\n",
              "    }\n",
              "\n",
              "    [theme=dark] .colab-df-convert:hover {\n",
              "      background-color: #434B5C;\n",
              "      box-shadow: 0px 1px 3px 1px rgba(0, 0, 0, 0.15);\n",
              "      filter: drop-shadow(0px 1px 2px rgba(0, 0, 0, 0.3));\n",
              "      fill: #FFFFFF;\n",
              "    }\n",
              "  </style>\n",
              "\n",
              "    <script>\n",
              "      const buttonEl =\n",
              "        document.querySelector('#df-18c8cccc-bd9b-4339-94b1-20f53a77392f button.colab-df-convert');\n",
              "      buttonEl.style.display =\n",
              "        google.colab.kernel.accessAllowed ? 'block' : 'none';\n",
              "\n",
              "      async function convertToInteractive(key) {\n",
              "        const element = document.querySelector('#df-18c8cccc-bd9b-4339-94b1-20f53a77392f');\n",
              "        const dataTable =\n",
              "          await google.colab.kernel.invokeFunction('convertToInteractive',\n",
              "                                                    [key], {});\n",
              "        if (!dataTable) return;\n",
              "\n",
              "        const docLinkHtml = 'Like what you see? Visit the ' +\n",
              "          '<a target=\"_blank\" href=https://colab.research.google.com/notebooks/data_table.ipynb>data table notebook</a>'\n",
              "          + ' to learn more about interactive tables.';\n",
              "        element.innerHTML = '';\n",
              "        dataTable['output_type'] = 'display_data';\n",
              "        await google.colab.output.renderOutput(dataTable, element);\n",
              "        const docLink = document.createElement('div');\n",
              "        docLink.innerHTML = docLinkHtml;\n",
              "        element.appendChild(docLink);\n",
              "      }\n",
              "    </script>\n",
              "  </div>\n",
              "\n",
              "\n",
              "<div id=\"df-b2f90ae8-c8a8-4896-b483-aa72a6c92d45\">\n",
              "  <button class=\"colab-df-quickchart\" onclick=\"quickchart('df-b2f90ae8-c8a8-4896-b483-aa72a6c92d45')\"\n",
              "            title=\"Suggest charts\"\n",
              "            style=\"display:none;\">\n",
              "\n",
              "<svg xmlns=\"http://www.w3.org/2000/svg\" height=\"24px\"viewBox=\"0 0 24 24\"\n",
              "     width=\"24px\">\n",
              "    <g>\n",
              "        <path d=\"M19 3H5c-1.1 0-2 .9-2 2v14c0 1.1.9 2 2 2h14c1.1 0 2-.9 2-2V5c0-1.1-.9-2-2-2zM9 17H7v-7h2v7zm4 0h-2V7h2v10zm4 0h-2v-4h2v4z\"/>\n",
              "    </g>\n",
              "</svg>\n",
              "  </button>\n",
              "\n",
              "<style>\n",
              "  .colab-df-quickchart {\n",
              "      --bg-color: #E8F0FE;\n",
              "      --fill-color: #1967D2;\n",
              "      --hover-bg-color: #E2EBFA;\n",
              "      --hover-fill-color: #174EA6;\n",
              "      --disabled-fill-color: #AAA;\n",
              "      --disabled-bg-color: #DDD;\n",
              "  }\n",
              "\n",
              "  [theme=dark] .colab-df-quickchart {\n",
              "      --bg-color: #3B4455;\n",
              "      --fill-color: #D2E3FC;\n",
              "      --hover-bg-color: #434B5C;\n",
              "      --hover-fill-color: #FFFFFF;\n",
              "      --disabled-bg-color: #3B4455;\n",
              "      --disabled-fill-color: #666;\n",
              "  }\n",
              "\n",
              "  .colab-df-quickchart {\n",
              "    background-color: var(--bg-color);\n",
              "    border: none;\n",
              "    border-radius: 50%;\n",
              "    cursor: pointer;\n",
              "    display: none;\n",
              "    fill: var(--fill-color);\n",
              "    height: 32px;\n",
              "    padding: 0;\n",
              "    width: 32px;\n",
              "  }\n",
              "\n",
              "  .colab-df-quickchart:hover {\n",
              "    background-color: var(--hover-bg-color);\n",
              "    box-shadow: 0 1px 2px rgba(60, 64, 67, 0.3), 0 1px 3px 1px rgba(60, 64, 67, 0.15);\n",
              "    fill: var(--button-hover-fill-color);\n",
              "  }\n",
              "\n",
              "  .colab-df-quickchart-complete:disabled,\n",
              "  .colab-df-quickchart-complete:disabled:hover {\n",
              "    background-color: var(--disabled-bg-color);\n",
              "    fill: var(--disabled-fill-color);\n",
              "    box-shadow: none;\n",
              "  }\n",
              "\n",
              "  .colab-df-spinner {\n",
              "    border: 2px solid var(--fill-color);\n",
              "    border-color: transparent;\n",
              "    border-bottom-color: var(--fill-color);\n",
              "    animation:\n",
              "      spin 1s steps(1) infinite;\n",
              "  }\n",
              "\n",
              "  @keyframes spin {\n",
              "    0% {\n",
              "      border-color: transparent;\n",
              "      border-bottom-color: var(--fill-color);\n",
              "      border-left-color: var(--fill-color);\n",
              "    }\n",
              "    20% {\n",
              "      border-color: transparent;\n",
              "      border-left-color: var(--fill-color);\n",
              "      border-top-color: var(--fill-color);\n",
              "    }\n",
              "    30% {\n",
              "      border-color: transparent;\n",
              "      border-left-color: var(--fill-color);\n",
              "      border-top-color: var(--fill-color);\n",
              "      border-right-color: var(--fill-color);\n",
              "    }\n",
              "    40% {\n",
              "      border-color: transparent;\n",
              "      border-right-color: var(--fill-color);\n",
              "      border-top-color: var(--fill-color);\n",
              "    }\n",
              "    60% {\n",
              "      border-color: transparent;\n",
              "      border-right-color: var(--fill-color);\n",
              "    }\n",
              "    80% {\n",
              "      border-color: transparent;\n",
              "      border-right-color: var(--fill-color);\n",
              "      border-bottom-color: var(--fill-color);\n",
              "    }\n",
              "    90% {\n",
              "      border-color: transparent;\n",
              "      border-bottom-color: var(--fill-color);\n",
              "    }\n",
              "  }\n",
              "</style>\n",
              "\n",
              "  <script>\n",
              "    async function quickchart(key) {\n",
              "      const quickchartButtonEl =\n",
              "        document.querySelector('#' + key + ' button');\n",
              "      quickchartButtonEl.disabled = true;  // To prevent multiple clicks.\n",
              "      quickchartButtonEl.classList.add('colab-df-spinner');\n",
              "      try {\n",
              "        const charts = await google.colab.kernel.invokeFunction(\n",
              "            'suggestCharts', [key], {});\n",
              "      } catch (error) {\n",
              "        console.error('Error during call to suggestCharts:', error);\n",
              "      }\n",
              "      quickchartButtonEl.classList.remove('colab-df-spinner');\n",
              "      quickchartButtonEl.classList.add('colab-df-quickchart-complete');\n",
              "    }\n",
              "    (() => {\n",
              "      let quickchartButtonEl =\n",
              "        document.querySelector('#df-b2f90ae8-c8a8-4896-b483-aa72a6c92d45 button');\n",
              "      quickchartButtonEl.style.display =\n",
              "        google.colab.kernel.accessAllowed ? 'block' : 'none';\n",
              "    })();\n",
              "  </script>\n",
              "</div>\n",
              "\n",
              "    </div>\n",
              "  </div>\n"
            ],
            "application/vnd.google.colaboratory.intrinsic+json": {
              "type": "dataframe",
              "variable_name": "train",
              "summary": "{\n  \"name\": \"train\",\n  \"rows\": 630,\n  \"fields\": [\n    {\n      \"column\": \"Snoring Range\",\n      \"properties\": {\n        \"dtype\": \"number\",\n        \"std\": 19.372832993333724,\n        \"min\": 45.0,\n        \"max\": 100.0,\n        \"num_unique_values\": 627,\n        \"samples\": [\n          59.76,\n          47.48,\n          49.04\n        ],\n        \"semantic_type\": \"\",\n        \"description\": \"\"\n      }\n    },\n    {\n      \"column\": \"Respiration Rate\",\n      \"properties\": {\n        \"dtype\": \"number\",\n        \"std\": 3.9661108123894646,\n        \"min\": 16.0,\n        \"max\": 30.0,\n        \"num_unique_values\": 626,\n        \"samples\": [\n          18.496,\n          20.384,\n          21.776\n        ],\n        \"semantic_type\": \"\",\n        \"description\": \"\"\n      }\n    },\n    {\n      \"column\": \"Body Temperature\",\n      \"properties\": {\n        \"dtype\": \"number\",\n        \"std\": 3.52968965519678,\n        \"min\": 85.0,\n        \"max\": 99.0,\n        \"num_unique_values\": 626,\n        \"samples\": [\n          94.496,\n          92.384,\n          97.44\n        ],\n        \"semantic_type\": \"\",\n        \"description\": \"\"\n      }\n    },\n    {\n      \"column\": \"Limb Movement Rate\",\n      \"properties\": {\n        \"dtype\": \"number\",\n        \"std\": 4.299629148055774,\n        \"min\": 4.0,\n        \"max\": 19.0,\n        \"num_unique_values\": 626,\n        \"samples\": [\n          8.496,\n          10.384,\n          11.776\n        ],\n        \"semantic_type\": \"\",\n        \"description\": \"\"\n      }\n    },\n    {\n      \"column\": \"Blood Oxygen\",\n      \"properties\": {\n        \"dtype\": \"number\",\n        \"std\": 3.902483005587982,\n        \"min\": 82.0,\n        \"max\": 97.0,\n        \"num_unique_values\": 626,\n        \"samples\": [\n          92.744,\n          90.384,\n          95.96\n        ],\n        \"semantic_type\": \"\",\n        \"description\": \"\"\n      }\n    },\n    {\n      \"column\": \"Eye Movement\",\n      \"properties\": {\n        \"dtype\": \"number\",\n        \"std\": 11.893746603450516,\n        \"min\": 60.0,\n        \"max\": 105.0,\n        \"num_unique_values\": 626,\n        \"samples\": [\n          81.24,\n          86.92,\n          93.88\n        ],\n        \"semantic_type\": \"\",\n        \"description\": \"\"\n      }\n    },\n    {\n      \"column\": \"Number Of Hours Sleep\",\n      \"properties\": {\n        \"dtype\": \"number\",\n        \"std\": 3.0545720117359716,\n        \"min\": 0.0,\n        \"max\": 9.0,\n        \"num_unique_values\": 501,\n        \"samples\": [\n          4.832,\n          2.768,\n          7.368\n        ],\n        \"semantic_type\": \"\",\n        \"description\": \"\"\n      }\n    },\n    {\n      \"column\": \"Heart Rate\",\n      \"properties\": {\n        \"dtype\": \"number\",\n        \"std\": 9.91527703097366,\n        \"min\": 50.0,\n        \"max\": 85.0,\n        \"num_unique_values\": 626,\n        \"samples\": [\n          56.24,\n          60.96,\n          64.44\n        ],\n        \"semantic_type\": \"\",\n        \"description\": \"\"\n      }\n    },\n    {\n      \"column\": \"Stress Level\",\n      \"properties\": {\n        \"dtype\": \"number\",\n        \"std\": 1,\n        \"min\": 0,\n        \"max\": 4,\n        \"num_unique_values\": 5,\n        \"samples\": [\n          1,\n          4,\n          0\n        ],\n        \"semantic_type\": \"\",\n        \"description\": \"\"\n      }\n    }\n  ]\n}"
            }
          },
          "metadata": {},
          "execution_count": 28
        }
      ],
      "source": [
        "train.head()"
      ]
    },
    {
      "cell_type": "code",
      "execution_count": 29,
      "metadata": {
        "colab": {
          "base_uri": "https://localhost:8080/",
          "height": 469
        },
        "id": "qfc1WPHDbh2D",
        "outputId": "14e785db-428d-4b90-d91f-9dc93121ca8d"
      },
      "outputs": [
        {
          "output_type": "execute_result",
          "data": {
            "text/plain": [
              "<Axes: xlabel='Stress Level', ylabel='Blood Oxygen'>"
            ]
          },
          "metadata": {},
          "execution_count": 29
        },
        {
          "output_type": "display_data",
          "data": {
            "text/plain": [
              "<Figure size 640x480 with 1 Axes>"
            ],
            "image/png": "[encoded data removed]"
          },
          "metadata": {}
        }
      ],
      "source": [
        "sns.barplot(x='Stress Level', y='Blood Oxygen', data=train)"
      ]
    },
    {
      "cell_type": "code",
      "execution_count": 30,
      "metadata": {
        "colab": {
          "base_uri": "https://localhost:8080/",
          "height": 466
        },
        "id": "hi4x1fPubh2E",
        "outputId": "91934346-b6fb-4bc3-db94-d7f7e7672949"
      },
      "outputs": [
        {
          "output_type": "execute_result",
          "data": {
            "text/plain": [
              "<Axes: xlabel='Stress Level', ylabel='Heart Rate'>"
            ]
          },
          "metadata": {},
          "execution_count": 30
        },
        {
          "output_type": "display_data",
          "data": {
            "text/plain": [
              "<Figure size 640x480 with 1 Axes>"
            ],
            "image/png": "[encoded data removed]"
          },
          "metadata": {}
        }
      ],
      "source": [
        "sns.barplot(x='Stress Level',y='Heart Rate',data=train)"
      ]
    },
    {
      "cell_type": "code",
      "execution_count": 31,
      "metadata": {
        "colab": {
          "base_uri": "https://localhost:8080/",
          "height": 206
        },
        "id": "0Tbv3TI5bh2E",
        "outputId": "7fd2ea3c-7816-4fd3-fdf7-84b40a1764ba"
      },
      "outputs": [
        {
          "output_type": "execute_result",
          "data": {
            "text/plain": [
              "   Snoring Range  Respiration Rate  Body Temperature  Limb Movement Rate  \\\n",
              "0          93.80            25.680            91.840              16.600   \n",
              "1          91.64            25.104            91.552              15.880   \n",
              "2          60.00            20.000            96.000              10.000   \n",
              "3          85.76            23.536            90.768              13.920   \n",
              "4          48.12            17.248            97.872               6.496   \n",
              "\n",
              "   Blood Oxygen  Eye Movement  Number Of Hours Sleep  Heart Rate  Stress Level  \n",
              "0        89.840         99.60                  1.840       74.20             3  \n",
              "1        89.552         98.88                  1.552       72.76             3  \n",
              "2        95.000         85.00                  7.000       60.00             1  \n",
              "3        88.768         96.92                  0.768       68.84             3  \n",
              "4        96.248         72.48                  8.248       53.12             0  "
            ],
            "text/html": [
              "\n",
              "  <div id=\"df-84203bee-1ae4-48c1-a6e1-e6b463a2f326\" class=\"colab-df-container\">\n",
              "    <div>\n",
              "<style scoped>\n",
              "    .dataframe tbody tr th:only-of-type {\n",
              "        vertical-align: middle;\n",
              "    }\n",
              "\n",
              "    .dataframe tbody tr th {\n",
              "        vertical-align: top;\n",
              "    }\n",
              "\n",
              "    .dataframe thead th {\n",
              "        text-align: right;\n",
              "    }\n",
              "</style>\n",
              "<table border=\"1\" class=\"dataframe\">\n",
              "  <thead>\n",
              "    <tr style=\"text-align: right;\">\n",
              "      <th></th>\n",
              "      <th>Snoring Range</th>\n",
              "      <th>Respiration Rate</th>\n",
              "      <th>Body Temperature</th>\n",
              "      <th>Limb Movement Rate</th>\n",
              "      <th>Blood Oxygen</th>\n",
              "      <th>Eye Movement</th>\n",
              "      <th>Number Of Hours Sleep</th>\n",
              "      <th>Heart Rate</th>\n",
              "      <th>Stress Level</th>\n",
              "    </tr>\n",
              "  </thead>\n",
              "  <tbody>\n",
              "    <tr>\n",
              "      <th>0</th>\n",
              "      <td>93.80</td>\n",
              "      <td>25.680</td>\n",
              "      <td>91.840</td>\n",
              "      <td>16.600</td>\n",
              "      <td>89.840</td>\n",
              "      <td>99.60</td>\n",
              "      <td>1.840</td>\n",
              "      <td>74.20</td>\n",
              "      <td>3</td>\n",
              "    </tr>\n",
              "    <tr>\n",
              "      <th>1</th>\n",
              "      <td>91.64</td>\n",
              "      <td>25.104</td>\n",
              "      <td>91.552</td>\n",
              "      <td>15.880</td>\n",
              "      <td>89.552</td>\n",
              "      <td>98.88</td>\n",
              "      <td>1.552</td>\n",
              "      <td>72.76</td>\n",
              "      <td>3</td>\n",
              "    </tr>\n",
              "    <tr>\n",
              "      <th>2</th>\n",
              "      <td>60.00</td>\n",
              "      <td>20.000</td>\n",
              "      <td>96.000</td>\n",
              "      <td>10.000</td>\n",
              "      <td>95.000</td>\n",
              "      <td>85.00</td>\n",
              "      <td>7.000</td>\n",
              "      <td>60.00</td>\n",
              "      <td>1</td>\n",
              "    </tr>\n",
              "    <tr>\n",
              "      <th>3</th>\n",
              "      <td>85.76</td>\n",
              "      <td>23.536</td>\n",
              "      <td>90.768</td>\n",
              "      <td>13.920</td>\n",
              "      <td>88.768</td>\n",
              "      <td>96.92</td>\n",
              "      <td>0.768</td>\n",
              "      <td>68.84</td>\n",
              "      <td>3</td>\n",
              "    </tr>\n",
              "    <tr>\n",
              "      <th>4</th>\n",
              "      <td>48.12</td>\n",
              "      <td>17.248</td>\n",
              "      <td>97.872</td>\n",
              "      <td>6.496</td>\n",
              "      <td>96.248</td>\n",
              "      <td>72.48</td>\n",
              "      <td>8.248</td>\n",
              "      <td>53.12</td>\n",
              "      <td>0</td>\n",
              "    </tr>\n",
              "  </tbody>\n",
              "</table>\n",
              "</div>\n",
              "    <div class=\"colab-df-buttons\">\n",
              "\n",
              "  <div class=\"colab-df-container\">\n",
              "    <button class=\"colab-df-convert\" onclick=\"convertToInteractive('df-84203bee-1ae4-48c1-a6e1-e6b463a2f326')\"\n",
              "            title=\"Convert this dataframe to an interactive table.\"\n",
              "            style=\"display:none;\">\n",
              "\n",
              "  <svg xmlns=\"http://www.w3.org/2000/svg\" height=\"24px\" viewBox=\"0 -960 960 960\">\n",
              "    <path d=\"M120-120v-720h720v720H120Zm60-500h600v-160H180v160Zm220 220h160v-160H400v160Zm0 220h160v-160H400v160ZM180-400h160v-160H180v160Zm440 0h160v-160H620v160ZM180-180h160v-160H180v160Zm440 0h160v-160H620v160Z\"/>\n",
              "  </svg>\n",
              "    </button>\n",
              "\n",
              "  <style>\n",
              "    .colab-df-container {\n",
              "      display:flex;\n",
              "      gap: 12px;\n",
              "    }\n",
              "\n",
              "    .colab-df-convert {\n",
              "      background-color: #E8F0FE;\n",
              "      border: none;\n",
              "      border-radius: 50%;\n",
              "      cursor: pointer;\n",
              "      display: none;\n",
              "      fill: #1967D2;\n",
              "      height: 32px;\n",
              "      padding: 0 0 0 0;\n",
              "      width: 32px;\n",
              "    }\n",
              "\n",
              "    .colab-df-convert:hover {\n",
              "      background-color: #E2EBFA;\n",
              "      box-shadow: 0px 1px 2px rgba(60, 64, 67, 0.3), 0px 1px 3px 1px rgba(60, 64, 67, 0.15);\n",
              "      fill: #174EA6;\n",
              "    }\n",
              "\n",
              "    .colab-df-buttons div {\n",
              "      margin-bottom: 4px;\n",
              "    }\n",
              "\n",
              "    [theme=dark] .colab-df-convert {\n",
              "      background-color: #3B4455;\n",
              "      fill: #D2E3FC;\n",
              "    }\n",
              "\n",
              "    [theme=dark] .colab-df-convert:hover {\n",
              "      background-color: #434B5C;\n",
              "      box-shadow: 0px 1px 3px 1px rgba(0, 0, 0, 0.15);\n",
              "      filter: drop-shadow(0px 1px 2px rgba(0, 0, 0, 0.3));\n",
              "      fill: #FFFFFF;\n",
              "    }\n",
              "  </style>\n",
              "\n",
              "    <script>\n",
              "      const buttonEl =\n",
              "        document.querySelector('#df-84203bee-1ae4-48c1-a6e1-e6b463a2f326 button.colab-df-convert');\n",
              "      buttonEl.style.display =\n",
              "        google.colab.kernel.accessAllowed ? 'block' : 'none';\n",
              "\n",
              "      async function convertToInteractive(key) {\n",
              "        const element = document.querySelector('#df-84203bee-1ae4-48c1-a6e1-e6b463a2f326');\n",
              "        const dataTable =\n",
              "          await google.colab.kernel.invokeFunction('convertToInteractive',\n",
              "                                                    [key], {});\n",
              "        if (!dataTable) return;\n",
              "\n",
              "        const docLinkHtml = 'Like what you see? Visit the ' +\n",
              "          '<a target=\"_blank\" href=https://colab.research.google.com/notebooks/data_table.ipynb>data table notebook</a>'\n",
              "          + ' to learn more about interactive tables.';\n",
              "        element.innerHTML = '';\n",
              "        dataTable['output_type'] = 'display_data';\n",
              "        await google.colab.output.renderOutput(dataTable, element);\n",
              "        const docLink = document.createElement('div');\n",
              "        docLink.innerHTML = docLinkHtml;\n",
              "        element.appendChild(docLink);\n",
              "      }\n",
              "    </script>\n",
              "  </div>\n",
              "\n",
              "\n",
              "<div id=\"df-ed2f2174-ccc6-407a-bb61-ea5e9c0b5e48\">\n",
              "  <button class=\"colab-df-quickchart\" onclick=\"quickchart('df-ed2f2174-ccc6-407a-bb61-ea5e9c0b5e48')\"\n",
              "            title=\"Suggest charts\"\n",
              "            style=\"display:none;\">\n",
              "\n",
              "<svg xmlns=\"http://www.w3.org/2000/svg\" height=\"24px\"viewBox=\"0 0 24 24\"\n",
              "     width=\"24px\">\n",
              "    <g>\n",
              "        <path d=\"M19 3H5c-1.1 0-2 .9-2 2v14c0 1.1.9 2 2 2h14c1.1 0 2-.9 2-2V5c0-1.1-.9-2-2-2zM9 17H7v-7h2v7zm4 0h-2V7h2v10zm4 0h-2v-4h2v4z\"/>\n",
              "    </g>\n",
              "</svg>\n",
              "  </button>\n",
              "\n",
              "<style>\n",
              "  .colab-df-quickchart {\n",
              "      --bg-color: #E8F0FE;\n",
              "      --fill-color: #1967D2;\n",
              "      --hover-bg-color: #E2EBFA;\n",
              "      --hover-fill-color: #174EA6;\n",
              "      --disabled-fill-color: #AAA;\n",
              "      --disabled-bg-color: #DDD;\n",
              "  }\n",
              "\n",
              "  [theme=dark] .colab-df-quickchart {\n",
              "      --bg-color: #3B4455;\n",
              "      --fill-color: #D2E3FC;\n",
              "      --hover-bg-color: #434B5C;\n",
              "      --hover-fill-color: #FFFFFF;\n",
              "      --disabled-bg-color: #3B4455;\n",
              "      --disabled-fill-color: #666;\n",
              "  }\n",
              "\n",
              "  .colab-df-quickchart {\n",
              "    background-color: var(--bg-color);\n",
              "    border: none;\n",
              "    border-radius: 50%;\n",
              "    cursor: pointer;\n",
              "    display: none;\n",
              "    fill: var(--fill-color);\n",
              "    height: 32px;\n",
              "    padding: 0;\n",
              "    width: 32px;\n",
              "  }\n",
              "\n",
              "  .colab-df-quickchart:hover {\n",
              "    background-color: var(--hover-bg-color);\n",
              "    box-shadow: 0 1px 2px rgba(60, 64, 67, 0.3), 0 1px 3px 1px rgba(60, 64, 67, 0.15);\n",
              "    fill: var(--button-hover-fill-color);\n",
              "  }\n",
              "\n",
              "  .colab-df-quickchart-complete:disabled,\n",
              "  .colab-df-quickchart-complete:disabled:hover {\n",
              "    background-color: var(--disabled-bg-color);\n",
              "    fill: var(--disabled-fill-color);\n",
              "    box-shadow: none;\n",
              "  }\n",
              "\n",
              "  .colab-df-spinner {\n",
              "    border: 2px solid var(--fill-color);\n",
              "    border-color: transparent;\n",
              "    border-bottom-color: var(--fill-color);\n",
              "    animation:\n",
              "      spin 1s steps(1) infinite;\n",
              "  }\n",
              "\n",
              "  @keyframes spin {\n",
              "    0% {\n",
              "      border-color: transparent;\n",
              "      border-bottom-color: var(--fill-color);\n",
              "      border-left-color: var(--fill-color);\n",
              "    }\n",
              "    20% {\n",
              "      border-color: transparent;\n",
              "      border-left-color: var(--fill-color);\n",
              "      border-top-color: var(--fill-color);\n",
              "    }\n",
              "    30% {\n",
              "      border-color: transparent;\n",
              "      border-left-color: var(--fill-color);\n",
              "      border-top-color: var(--fill-color);\n",
              "      border-right-color: var(--fill-color);\n",
              "    }\n",
              "    40% {\n",
              "      border-color: transparent;\n",
              "      border-right-color: var(--fill-color);\n",
              "      border-top-color: var(--fill-color);\n",
              "    }\n",
              "    60% {\n",
              "      border-color: transparent;\n",
              "      border-right-color: var(--fill-color);\n",
              "    }\n",
              "    80% {\n",
              "      border-color: transparent;\n",
              "      border-right-color: var(--fill-color);\n",
              "      border-bottom-color: var(--fill-color);\n",
              "    }\n",
              "    90% {\n",
              "      border-color: transparent;\n",
              "      border-bottom-color: var(--fill-color);\n",
              "    }\n",
              "  }\n",
              "</style>\n",
              "\n",
              "  <script>\n",
              "    async function quickchart(key) {\n",
              "      const quickchartButtonEl =\n",
              "        document.querySelector('#' + key + ' button');\n",
              "      quickchartButtonEl.disabled = true;  // To prevent multiple clicks.\n",
              "      quickchartButtonEl.classList.add('colab-df-spinner');\n",
              "      try {\n",
              "        const charts = await google.colab.kernel.invokeFunction(\n",
              "            'suggestCharts', [key], {});\n",
              "      } catch (error) {\n",
              "        console.error('Error during call to suggestCharts:', error);\n",
              "      }\n",
              "      quickchartButtonEl.classList.remove('colab-df-spinner');\n",
              "      quickchartButtonEl.classList.add('colab-df-quickchart-complete');\n",
              "    }\n",
              "    (() => {\n",
              "      let quickchartButtonEl =\n",
              "        document.querySelector('#df-ed2f2174-ccc6-407a-bb61-ea5e9c0b5e48 button');\n",
              "      quickchartButtonEl.style.display =\n",
              "        google.colab.kernel.accessAllowed ? 'block' : 'none';\n",
              "    })();\n",
              "  </script>\n",
              "</div>\n",
              "\n",
              "    </div>\n",
              "  </div>\n"
            ],
            "application/vnd.google.colaboratory.intrinsic+json": {
              "type": "dataframe",
              "variable_name": "train",
              "summary": "{\n  \"name\": \"train\",\n  \"rows\": 630,\n  \"fields\": [\n    {\n      \"column\": \"Snoring Range\",\n      \"properties\": {\n        \"dtype\": \"number\",\n        \"std\": 19.372832993333724,\n        \"min\": 45.0,\n        \"max\": 100.0,\n        \"num_unique_values\": 627,\n        \"samples\": [\n          59.76,\n          47.48,\n          49.04\n        ],\n        \"semantic_type\": \"\",\n        \"description\": \"\"\n      }\n    },\n    {\n      \"column\": \"Respiration Rate\",\n      \"properties\": {\n        \"dtype\": \"number\",\n        \"std\": 3.9661108123894646,\n        \"min\": 16.0,\n        \"max\": 30.0,\n        \"num_unique_values\": 626,\n        \"samples\": [\n          18.496,\n          20.384,\n          21.776\n        ],\n        \"semantic_type\": \"\",\n        \"description\": \"\"\n      }\n    },\n    {\n      \"column\": \"Body Temperature\",\n      \"properties\": {\n        \"dtype\": \"number\",\n        \"std\": 3.52968965519678,\n        \"min\": 85.0,\n        \"max\": 99.0,\n        \"num_unique_values\": 626,\n        \"samples\": [\n          94.496,\n          92.384,\n          97.44\n        ],\n        \"semantic_type\": \"\",\n        \"description\": \"\"\n      }\n    },\n    {\n      \"column\": \"Limb Movement Rate\",\n      \"properties\": {\n        \"dtype\": \"number\",\n        \"std\": 4.299629148055774,\n        \"min\": 4.0,\n        \"max\": 19.0,\n        \"num_unique_values\": 626,\n        \"samples\": [\n          8.496,\n          10.384,\n          11.776\n        ],\n        \"semantic_type\": \"\",\n        \"description\": \"\"\n      }\n    },\n    {\n      \"column\": \"Blood Oxygen\",\n      \"properties\": {\n        \"dtype\": \"number\",\n        \"std\": 3.902483005587982,\n        \"min\": 82.0,\n        \"max\": 97.0,\n        \"num_unique_values\": 626,\n        \"samples\": [\n          92.744,\n          90.384,\n          95.96\n        ],\n        \"semantic_type\": \"\",\n        \"description\": \"\"\n      }\n    },\n    {\n      \"column\": \"Eye Movement\",\n      \"properties\": {\n        \"dtype\": \"number\",\n        \"std\": 11.893746603450516,\n        \"min\": 60.0,\n        \"max\": 105.0,\n        \"num_unique_values\": 626,\n        \"samples\": [\n          81.24,\n          86.92,\n          93.88\n        ],\n        \"semantic_type\": \"\",\n        \"description\": \"\"\n      }\n    },\n    {\n      \"column\": \"Number Of Hours Sleep\",\n      \"properties\": {\n        \"dtype\": \"number\",\n        \"std\": 3.0545720117359716,\n        \"min\": 0.0,\n        \"max\": 9.0,\n        \"num_unique_values\": 501,\n        \"samples\": [\n          4.832,\n          2.768,\n          7.368\n        ],\n        \"semantic_type\": \"\",\n        \"description\": \"\"\n      }\n    },\n    {\n      \"column\": \"Heart Rate\",\n      \"properties\": {\n        \"dtype\": \"number\",\n        \"std\": 9.91527703097366,\n        \"min\": 50.0,\n        \"max\": 85.0,\n        \"num_unique_values\": 626,\n        \"samples\": [\n          56.24,\n          60.96,\n          64.44\n        ],\n        \"semantic_type\": \"\",\n        \"description\": \"\"\n      }\n    },\n    {\n      \"column\": \"Stress Level\",\n      \"properties\": {\n        \"dtype\": \"number\",\n        \"std\": 1,\n        \"min\": 0,\n        \"max\": 4,\n        \"num_unique_values\": 5,\n        \"samples\": [\n          1,\n          4,\n          0\n        ],\n        \"semantic_type\": \"\",\n        \"description\": \"\"\n      }\n    }\n  ]\n}"
            }
          },
          "metadata": {},
          "execution_count": 31
        }
      ],
      "source": [
        "train.head()"
      ]
    },
    {
      "cell_type": "code",
      "execution_count": 32,
      "metadata": {
        "id": "eXAwJZISbh2E"
      },
      "outputs": [],
      "source": [
        "#dropping the column of stress level\n",
        "X = train.drop(['Stress Level'], axis=1).values\n",
        "y = train['Stress Level'].values"
      ]
    },
    {
      "cell_type": "code",
      "execution_count": 33,
      "metadata": {
        "colab": {
          "base_uri": "https://localhost:8080/"
        },
        "id": "3BXBy1ELjASP",
        "outputId": "1d20dfe4-ff7a-428c-ba60-d443b0fa27a6"
      },
      "outputs": [
        {
          "output_type": "execute_result",
          "data": {
            "text/plain": [
              "array([[ 93.8  ,  25.68 ,  91.84 , ...,  99.6  ,   1.84 ,  74.2  ],\n",
              "       [ 91.64 ,  25.104,  91.552, ...,  98.88 ,   1.552,  72.76 ],\n",
              "       [ 60.   ,  20.   ,  96.   , ...,  85.   ,   7.   ,  60.   ],\n",
              "       ...,\n",
              "       [ 97.504,  27.504,  86.88 , ..., 101.88 ,   0.   ,  78.76 ],\n",
              "       [ 58.64 ,  19.728,  95.728, ...,  84.32 ,   6.728,  59.32 ],\n",
              "       [ 73.92 ,  21.392,  93.392, ...,  91.96 ,   4.088,  63.48 ]])"
            ]
          },
          "metadata": {},
          "execution_count": 33
        }
      ],
      "source": [
        "X"
      ]
    },
    {
      "cell_type": "code",
      "execution_count": 34,
      "metadata": {
        "colab": {
          "base_uri": "https://localhost:8080/"
        },
        "id": "R4aWv6AAjXVZ",
        "outputId": "06859503-ba6f-4f13-ddc3-5b61c158046b"
      },
      "outputs": [
        {
          "output_type": "execute_result",
          "data": {
            "text/plain": [
              "array([3, 3, 1, 3, 0, 1, 0, 0, 0, 1, 2, 1, 0, 4, 3, 1, 1, 3, 3, 2, 2, 2,\n",
              "       2, 3, 3, 1, 2, 1, 3, 2, 0, 4, 0, 4, 2, 3, 0, 4, 0, 4, 2, 2, 2, 0,\n",
              "       2, 4, 2, 4, 1, 4, 0, 1, 3, 0, 1, 2, 4, 3, 3, 1, 4, 3, 0, 2, 4, 1,\n",
              "       0, 2, 4, 0, 1, 4, 1, 0, 0, 4, 4, 1, 3, 4, 1, 1, 1, 4, 2, 1, 1, 1,\n",
              "       3, 4, 2, 3, 2, 4, 0, 2, 4, 2, 2, 3, 4, 4, 0, 4, 1, 2, 2, 2, 4, 1,\n",
              "       2, 4, 0, 3, 2, 4, 2, 2, 0, 1, 1, 3, 4, 1, 3, 4, 4, 2, 1, 4, 2, 0,\n",
              "       4, 3, 1, 0, 0, 2, 4, 0, 2, 3, 2, 0, 2, 0, 0, 0, 0, 1, 3, 0, 4, 4,\n",
              "       0, 2, 3, 2, 4, 4, 4, 2, 1, 2, 4, 2, 0, 0, 4, 4, 1, 2, 2, 1, 1, 1,\n",
              "       1, 4, 3, 1, 1, 1, 2, 1, 0, 2, 0, 2, 1, 2, 1, 1, 4, 3, 4, 0, 0, 0,\n",
              "       2, 3, 0, 0, 0, 2, 4, 0, 2, 4, 1, 1, 1, 3, 0, 0, 3, 3, 0, 2, 2, 2,\n",
              "       1, 4, 0, 1, 3, 4, 2, 1, 4, 0, 3, 4, 1, 3, 0, 0, 3, 4, 3, 1, 4, 3,\n",
              "       3, 4, 3, 0, 3, 2, 3, 3, 1, 4, 2, 3, 1, 3, 2, 3, 4, 2, 4, 3, 2, 0,\n",
              "       0, 1, 2, 3, 2, 2, 4, 4, 1, 0, 4, 1, 2, 3, 4, 3, 3, 3, 0, 3, 0, 1,\n",
              "       3, 3, 3, 2, 4, 0, 4, 0, 4, 0, 2, 1, 2, 1, 3, 0, 0, 3, 2, 2, 4, 2,\n",
              "       3, 0, 3, 2, 1, 0, 1, 0, 3, 3, 3, 0, 3, 4, 2, 4, 3, 4, 1, 2, 0, 2,\n",
              "       4, 0, 1, 3, 4, 0, 1, 0, 0, 3, 0, 0, 2, 3, 2, 4, 0, 1, 3, 4, 3, 4,\n",
              "       4, 3, 4, 2, 0, 4, 2, 3, 2, 1, 2, 2, 4, 0, 3, 0, 1, 3, 4, 3, 2, 0,\n",
              "       3, 1, 2, 4, 0, 1, 4, 1, 2, 0, 3, 0, 1, 1, 3, 1, 4, 1, 4, 1, 4, 1,\n",
              "       0, 3, 3, 3, 3, 3, 4, 2, 2, 3, 1, 3, 3, 2, 0, 4, 4, 1, 1, 0, 1, 4,\n",
              "       3, 0, 1, 4, 4, 0, 0, 1, 1, 0, 4, 0, 4, 2, 0, 2, 3, 2, 2, 4, 3, 1,\n",
              "       4, 1, 1, 1, 2, 4, 4, 3, 2, 0, 1, 3, 1, 3, 1, 1, 1, 1, 4, 2, 4, 1,\n",
              "       4, 2, 2, 1, 3, 3, 2, 1, 0, 0, 3, 1, 0, 3, 1, 0, 1, 4, 0, 0, 3, 2,\n",
              "       2, 4, 1, 3, 2, 4, 2, 4, 2, 1, 3, 0, 1, 0, 0, 3, 2, 4, 3, 0, 0, 4,\n",
              "       2, 4, 4, 1, 2, 3, 0, 1, 0, 3, 0, 0, 2, 1, 0, 0, 4, 0, 4, 1, 2, 4,\n",
              "       3, 2, 4, 0, 3, 1, 0, 0, 1, 4, 2, 3, 0, 1, 3, 4, 3, 4, 2, 4, 2, 3,\n",
              "       0, 3, 2, 0, 2, 3, 2, 3, 4, 1, 1, 0, 2, 2, 3, 1, 3, 3, 3, 4, 4, 3,\n",
              "       1, 1, 0, 4, 3, 2, 3, 4, 1, 2, 3, 1, 3, 2, 0, 0, 2, 1, 3, 0, 0, 0,\n",
              "       4, 2, 4, 0, 4, 4, 3, 1, 1, 1, 0, 3, 4, 2, 1, 1, 3, 4, 3, 2, 2, 3,\n",
              "       1, 2, 0, 0, 4, 1, 2, 4, 1, 2, 0, 4, 1, 2])"
            ]
          },
          "metadata": {},
          "execution_count": 34
        }
      ],
      "source": [
        "y"
      ]
    },
    {
      "cell_type": "code",
      "execution_count": 35,
      "metadata": {
        "colab": {
          "base_uri": "https://localhost:8080/"
        },
        "id": "HXPbISapbh2E",
        "outputId": "de9d2419-8780-4fb8-e977-5b04b9fbaa09"
      },
      "outputs": [
        {
          "output_type": "stream",
          "name": "stdout",
          "text": [
            "(441, 8)\n",
            "(189, 8)\n"
          ]
        }
      ],
      "source": [
        "#Splitting the dataset into the Training set and Test set\n",
        "from sklearn.model_selection import train_test_split\n",
        "X_train, X_test, y_train, y_test = train_test_split(X, y, test_size=0.3, random_state=9)\n",
        "print(X_train.shape)\n",
        "print(X_test.shape)"
      ]
    },
    {
      "cell_type": "code",
      "execution_count": 36,
      "metadata": {
        "colab": {
          "base_uri": "https://localhost:8080/"
        },
        "id": "M_kb1p7Ubh2F",
        "outputId": "99bd000d-4480-4169-a6a2-f50924816134"
      },
      "outputs": [
        {
          "output_type": "execute_result",
          "data": {
            "text/plain": [
              "array([[ 88.28 ,  24.208,  91.104, ...,  97.76 ,   1.104,  70.52 ],\n",
              "       [ 45.72 ,  16.288,  96.432, ...,  62.88 ,   7.288,  50.72 ],\n",
              "       [ 88.04 ,  24.144,  91.072, ...,  97.68 ,   1.072,  70.36 ],\n",
              "       ...,\n",
              "       [ 96.128,  26.128,  85.16 , ..., 100.16 ,   0.   ,  75.32 ],\n",
              "       [ 92.36 ,  25.296,  91.648, ...,  99.12 ,   1.648,  73.24 ],\n",
              "       [ 61.92 ,  20.192,  92.192, ...,  85.96 ,   2.288,  60.48 ]])"
            ]
          },
          "metadata": {},
          "execution_count": 36
        }
      ],
      "source": [
        "X_train"
      ]
    },
    {
      "cell_type": "code",
      "execution_count": 37,
      "metadata": {
        "colab": {
          "base_uri": "https://localhost:8080/"
        },
        "id": "-Tpw-vLgj9p4",
        "outputId": "720df21f-5152-4c92-d97e-60f363f9089c"
      },
      "outputs": [
        {
          "output_type": "execute_result",
          "data": {
            "text/plain": [
              "array([[ 47.68 ,  17.072,  97.608, ...,  70.72 ,   8.072,  52.68 ],\n",
              "       [ 92.24 ,  25.264,  91.632, ...,  99.08 ,   1.632,  73.16 ],\n",
              "       [ 89.24 ,  24.464,  91.232, ...,  98.08 ,   1.232,  71.16 ],\n",
              "       ...,\n",
              "       [ 49.56 ,  17.824,  98.736, ...,  78.24 ,   8.824,  54.56 ],\n",
              "       [ 95.   ,  26.   ,  92.   , ..., 100.   ,   2.   ,  75.   ],\n",
              "       [ 51.12 ,  18.224,  94.224, ...,  80.56 ,   5.224,  55.56 ]])"
            ]
          },
          "metadata": {},
          "execution_count": 37
        }
      ],
      "source": [
        "X_test"
      ]
    },
    {
      "cell_type": "code",
      "execution_count": 38,
      "metadata": {
        "colab": {
          "base_uri": "https://localhost:8080/"
        },
        "id": "xD-jwF4cjqfd",
        "outputId": "b9c9f015-85e5-4451-8cb5-179c7d94709f"
      },
      "outputs": [
        {
          "output_type": "execute_result",
          "data": {
            "text/plain": [
              "array([3, 0, 3, 3, 2, 4, 1, 1, 4, 2, 3, 0, 0, 4, 4, 0, 2, 0, 3, 2, 2, 2,\n",
              "       1, 4, 0, 3, 1, 4, 2, 0, 4, 3, 4, 2, 0, 3, 0, 4, 3, 1, 4, 4, 2, 3,\n",
              "       4, 1, 3, 2, 4, 1, 4, 4, 3, 3, 1, 4, 4, 3, 0, 0, 0, 2, 0, 2, 4, 0,\n",
              "       1, 2, 1, 1, 3, 1, 4, 2, 0, 2, 1, 3, 3, 1, 4, 1, 0, 3, 2, 1, 3, 1,\n",
              "       3, 1, 4, 0, 2, 4, 2, 4, 2, 3, 1, 1, 4, 0, 0, 0, 2, 2, 0, 1, 1, 2,\n",
              "       1, 4, 1, 4, 1, 2, 3, 1, 4, 2, 3, 0, 3, 1, 1, 1, 2, 0, 3, 4, 4, 4,\n",
              "       3, 3, 3, 3, 2, 1, 1, 2, 1, 2, 4, 1, 3, 3, 0, 4, 0, 3, 4, 4, 1, 4,\n",
              "       3, 2, 0, 3, 2, 2, 1, 2, 4, 0, 3, 3, 4, 3, 4, 0, 3, 1, 4, 0, 3, 0,\n",
              "       2, 2, 1, 2, 2, 4, 0, 0, 0, 2, 0, 1, 1, 0, 4, 3, 0, 2, 0, 0, 0, 3,\n",
              "       0, 4, 0, 1, 2, 0, 3, 1, 2, 1, 4, 4, 0, 0, 0, 4, 0, 4, 2, 3, 4, 3,\n",
              "       3, 1, 2, 0, 0, 0, 4, 2, 1, 3, 4, 1, 2, 1, 2, 1, 1, 0, 0, 0, 4, 4,\n",
              "       4, 3, 1, 1, 1, 1, 4, 0, 4, 1, 3, 4, 0, 1, 4, 4, 0, 1, 1, 4, 1, 1,\n",
              "       4, 0, 2, 3, 3, 2, 0, 3, 2, 1, 3, 4, 0, 1, 3, 3, 2, 3, 2, 2, 1, 2,\n",
              "       2, 3, 2, 0, 2, 3, 2, 0, 2, 1, 1, 2, 4, 3, 1, 1, 4, 2, 1, 2, 0, 3,\n",
              "       3, 1, 2, 2, 1, 3, 4, 0, 2, 1, 1, 2, 0, 2, 0, 3, 0, 0, 3, 0, 2, 2,\n",
              "       0, 0, 4, 3, 0, 1, 2, 2, 4, 1, 1, 1, 3, 4, 2, 4, 1, 4, 0, 0, 2, 2,\n",
              "       2, 2, 1, 3, 3, 3, 1, 2, 3, 4, 1, 2, 2, 0, 1, 3, 1, 1, 0, 4, 4, 3,\n",
              "       4, 4, 1, 3, 2, 2, 4, 3, 2, 1, 0, 3, 4, 2, 4, 3, 0, 4, 0, 2, 2, 1,\n",
              "       3, 3, 2, 4, 0, 3, 2, 0, 4, 3, 4, 2, 2, 2, 3, 1, 2, 4, 1, 2, 1, 1,\n",
              "       1, 4, 3, 4, 0, 0, 0, 3, 2, 3, 4, 1, 3, 2, 3, 2, 0, 2, 4, 4, 4, 3,\n",
              "       2])"
            ]
          },
          "metadata": {},
          "execution_count": 38
        }
      ],
      "source": [
        "y_train"
      ]
    },
    {
      "cell_type": "code",
      "execution_count": 39,
      "metadata": {
        "colab": {
          "base_uri": "https://localhost:8080/"
        },
        "id": "2CgxXjcRkEHS",
        "outputId": "0a07a144-7a1a-4dcd-dc40-6ee29a68c72f"
      },
      "outputs": [
        {
          "output_type": "execute_result",
          "data": {
            "text/plain": [
              "array([0, 3, 3, 0, 4, 2, 4, 1, 0, 4, 0, 0, 4, 3, 0, 2, 1, 2, 2, 3, 0, 3,\n",
              "       1, 2, 1, 0, 1, 3, 2, 1, 4, 4, 2, 0, 2, 4, 1, 4, 3, 2, 3, 1, 2, 0,\n",
              "       2, 2, 0, 3, 4, 1, 1, 4, 4, 1, 2, 0, 2, 4, 0, 0, 1, 4, 1, 3, 0, 2,\n",
              "       4, 1, 1, 0, 3, 3, 1, 4, 2, 0, 3, 1, 3, 1, 0, 3, 3, 2, 4, 3, 0, 0,\n",
              "       4, 4, 1, 3, 0, 4, 3, 3, 0, 2, 4, 2, 0, 3, 1, 3, 1, 0, 3, 0, 4, 0,\n",
              "       4, 3, 1, 2, 4, 0, 2, 0, 1, 0, 1, 3, 4, 1, 4, 4, 3, 1, 3, 1, 2, 4,\n",
              "       4, 1, 0, 3, 0, 0, 4, 4, 1, 0, 0, 0, 3, 0, 2, 2, 0, 1, 2, 2, 3, 1,\n",
              "       2, 2, 0, 4, 0, 2, 0, 3, 4, 3, 4, 1, 4, 3, 4, 3, 1, 4, 3, 0, 3, 3,\n",
              "       3, 3, 4, 2, 2, 4, 0, 4, 1, 1, 0, 3, 1])"
            ]
          },
          "metadata": {},
          "execution_count": 39
        }
      ],
      "source": [
        "y_test"
      ]
    },
    {
      "cell_type": "code",
      "execution_count": 40,
      "metadata": {
        "id": "WSvoXJ_Ubh2F"
      },
      "outputs": [],
      "source": [
        "#sklearn library for Random Forest Classifier\n",
        "from sklearn.model_selection import train_test_split\n",
        "from sklearn.ensemble import RandomForestClassifier\n",
        "from sklearn.metrics import classification_report, confusion_matrix"
      ]
    },
    {
      "cell_type": "code",
      "execution_count": 41,
      "metadata": {
        "id": "OS3DbAVLbh2F"
      },
      "outputs": [],
      "source": [
        "rfc = RandomForestClassifier(n_estimators=60, random_state=23)"
      ]
    },
    {
      "cell_type": "code",
      "execution_count": 42,
      "metadata": {
        "colab": {
          "base_uri": "https://localhost:8080/",
          "height": 80
        },
        "id": "Tl0N6orJbh2F",
        "outputId": "65359260-981f-4c50-db71-f7fa721507e1"
      },
      "outputs": [
        {
          "output_type": "execute_result",
          "data": {
            "text/plain": [
              "RandomForestClassifier(n_estimators=60, random_state=23)"
            ],
            "text/html": [
              "<style>#sk-container-id-1 {\n",
              "  /* Definition of color scheme common for light and dark mode */\n",
              "  --sklearn-color-text: #000;\n",
              "  --sklearn-color-text-muted: #666;\n",
              "  --sklearn-color-line: gray;\n",
              "  /* Definition of color scheme for unfitted estimators */\n",
              "  --sklearn-color-unfitted-level-0: #fff5e6;\n",
              "  --sklearn-color-unfitted-level-1: #f6e4d2;\n",
              "  --sklearn-color-unfitted-level-2: #ffe0b3;\n",
              "  --sklearn-color-unfitted-level-3: chocolate;\n",
              "  /* Definition of color scheme for fitted estimators */\n",
              "  --sklearn-color-fitted-level-0: #f0f8ff;\n",
              "  --sklearn-color-fitted-level-1: #d4ebff;\n",
              "  --sklearn-color-fitted-level-2: #b3dbfd;\n",
              "  --sklearn-color-fitted-level-3: cornflowerblue;\n",
              "\n",
              "  /* Specific color for light theme */\n",
              "  --sklearn-color-text-on-default-background: var(--sg-text-color, var(--theme-code-foreground, var(--jp-content-font-color1, black)));\n",
              "  --sklearn-color-background: var(--sg-background-color, var(--theme-background, var(--jp-layout-color0, white)));\n",
              "  --sklearn-color-border-box: var(--sg-text-color, var(--theme-code-foreground, var(--jp-content-font-color1, black)));\n",
              "  --sklearn-color-icon: #696969;\n",
              "\n",
              "  @media (prefers-color-scheme: dark) {\n",
              "    /* Redefinition of color scheme for dark theme */\n",
              "    --sklearn-color-text-on-default-background: var(--sg-text-color, var(--theme-code-foreground, var(--jp-content-font-color1, white)));\n",
              "    --sklearn-color-background: var(--sg-background-color, var(--theme-background, var(--jp-layout-color0, #111)));\n",
              "    --sklearn-color-border-box: var(--sg-text-color, var(--theme-code-foreground, var(--jp-content-font-color1, white)));\n",
              "    --sklearn-color-icon: #878787;\n",
              "  }\n",
              "}\n",
              "\n",
              "#sk-container-id-1 {\n",
              "  color: var(--sklearn-color-text);\n",
              "}\n",
              "\n",
              "#sk-container-id-1 pre {\n",
              "  padding: 0;\n",
              "}\n",
              "\n",
              "#sk-container-id-1 input.sk-hidden--visually {\n",
              "  border: 0;\n",
              "  clip: rect(1px 1px 1px 1px);\n",
              "  clip: rect(1px, 1px, 1px, 1px);\n",
              "  height: 1px;\n",
              "  margin: -1px;\n",
              "  overflow: hidden;\n",
              "  padding: 0;\n",
              "  position: absolute;\n",
              "  width: 1px;\n",
              "}\n",
              "\n",
              "#sk-container-id-1 div.sk-dashed-wrapped {\n",
              "  border: 1px dashed var(--sklearn-color-line);\n",
              "  margin: 0 0.4em 0.5em 0.4em;\n",
              "  box-sizing: border-box;\n",
              "  padding-bottom: 0.4em;\n",
              "  background-color: var(--sklearn-color-background);\n",
              "}\n",
              "\n",
              "#sk-container-id-1 div.sk-container {\n",
              "  /* jupyter's `normalize.less` sets `[hidden] { display: none; }`\n",
              "     but bootstrap.min.css set `[hidden] { display: none !important; }`\n",
              "     so we also need the `!important` here to be able to override the\n",
              "     default hidden behavior on the sphinx rendered scikit-learn.org.\n",
              "     See: https://github.com/scikit-learn/scikit-learn/issues/21755 */\n",
              "  display: inline-block !important;\n",
              "  position: relative;\n",
              "}\n",
              "\n",
              "#sk-container-id-1 div.sk-text-repr-fallback {\n",
              "  display: none;\n",
              "}\n",
              "\n",
              "div.sk-parallel-item,\n",
              "div.sk-serial,\n",
              "div.sk-item {\n",
              "  /* draw centered vertical line to link estimators */\n",
              "  background-image: linear-gradient(var(--sklearn-color-text-on-default-background), var(--sklearn-color-text-on-default-background));\n",
              "  background-size: 2px 100%;\n",
              "  background-repeat: no-repeat;\n",
              "  background-position: center center;\n",
              "}\n",
              "\n",
              "/* Parallel-specific style estimator block */\n",
              "\n",
              "#sk-container-id-1 div.sk-parallel-item::after {\n",
              "  content: \"\";\n",
              "  width: 100%;\n",
              "  border-bottom: 2px solid var(--sklearn-color-text-on-default-background);\n",
              "  flex-grow: 1;\n",
              "}\n",
              "\n",
              "#sk-container-id-1 div.sk-parallel {\n",
              "  display: flex;\n",
              "  align-items: stretch;\n",
              "  justify-content: center;\n",
              "  background-color: var(--sklearn-color-background);\n",
              "  position: relative;\n",
              "}\n",
              "\n",
              "#sk-container-id-1 div.sk-parallel-item {\n",
              "  display: flex;\n",
              "  flex-direction: column;\n",
              "}\n",
              "\n",
              "#sk-container-id-1 div.sk-parallel-item:first-child::after {\n",
              "  align-self: flex-end;\n",
              "  width: 50%;\n",
              "}\n",
              "\n",
              "#sk-container-id-1 div.sk-parallel-item:last-child::after {\n",
              "  align-self: flex-start;\n",
              "  width: 50%;\n",
              "}\n",
              "\n",
              "#sk-container-id-1 div.sk-parallel-item:only-child::after {\n",
              "  width: 0;\n",
              "}\n",
              "\n",
              "/* Serial-specific style estimator block */\n",
              "\n",
              "#sk-container-id-1 div.sk-serial {\n",
              "  display: flex;\n",
              "  flex-direction: column;\n",
              "  align-items: center;\n",
              "  background-color: var(--sklearn-color-background);\n",
              "  padding-right: 1em;\n",
              "  padding-left: 1em;\n",
              "}\n",
              "\n",
              "\n",
              "/* Toggleable style: style used for estimator/Pipeline/ColumnTransformer box that is\n",
              "clickable and can be expanded/collapsed.\n",
              "- Pipeline and ColumnTransformer use this feature and define the default style\n",
              "- Estimators will overwrite some part of the style using the `sk-estimator` class\n",
              "*/\n",
              "\n",
              "/* Pipeline and ColumnTransformer style (default) */\n",
              "\n",
              "#sk-container-id-1 div.sk-toggleable {\n",
              "  /* Default theme specific background. It is overwritten whether we have a\n",
              "  specific estimator or a Pipeline/ColumnTransformer */\n",
              "  background-color: var(--sklearn-color-background);\n",
              "}\n",
              "\n",
              "/* Toggleable label */\n",
              "#sk-container-id-1 label.sk-toggleable__label {\n",
              "  cursor: pointer;\n",
              "  display: flex;\n",
              "  width: 100%;\n",
              "  margin-bottom: 0;\n",
              "  padding: 0.5em;\n",
              "  box-sizing: border-box;\n",
              "  text-align: center;\n",
              "  align-items: start;\n",
              "  justify-content: space-between;\n",
              "  gap: 0.5em;\n",
              "}\n",
              "\n",
              "#sk-container-id-1 label.sk-toggleable__label .caption {\n",
              "  font-size: 0.6rem;\n",
              "  font-weight: lighter;\n",
              "  color: var(--sklearn-color-text-muted);\n",
              "}\n",
              "\n",
              "#sk-container-id-1 label.sk-toggleable__label-arrow:before {\n",
              "  /* Arrow on the left of the label */\n",
              "  content: \"▸\";\n",
              "  float: left;\n",
              "  margin-right: 0.25em;\n",
              "  color: var(--sklearn-color-icon);\n",
              "}\n",
              "\n",
              "#sk-container-id-1 label.sk-toggleable__label-arrow:hover:before {\n",
              "  color: var(--sklearn-color-text);\n",
              "}\n",
              "\n",
              "/* Toggleable content - dropdown */\n",
              "\n",
              "#sk-container-id-1 div.sk-toggleable__content {\n",
              "  max-height: 0;\n",
              "  max-width: 0;\n",
              "  overflow: hidden;\n",
              "  text-align: left;\n",
              "  /* unfitted */\n",
              "  background-color: var(--sklearn-color-unfitted-level-0);\n",
              "}\n",
              "\n",
              "#sk-container-id-1 div.sk-toggleable__content.fitted {\n",
              "  /* fitted */\n",
              "  background-color: var(--sklearn-color-fitted-level-0);\n",
              "}\n",
              "\n",
              "#sk-container-id-1 div.sk-toggleable__content pre {\n",
              "  margin: 0.2em;\n",
              "  border-radius: 0.25em;\n",
              "  color: var(--sklearn-color-text);\n",
              "  /* unfitted */\n",
              "  background-color: var(--sklearn-color-unfitted-level-0);\n",
              "}\n",
              "\n",
              "#sk-container-id-1 div.sk-toggleable__content.fitted pre {\n",
              "  /* unfitted */\n",
              "  background-color: var(--sklearn-color-fitted-level-0);\n",
              "}\n",
              "\n",
              "#sk-container-id-1 input.sk-toggleable__control:checked~div.sk-toggleable__content {\n",
              "  /* Expand drop-down */\n",
              "  max-height: 200px;\n",
              "  max-width: 100%;\n",
              "  overflow: auto;\n",
              "}\n",
              "\n",
              "#sk-container-id-1 input.sk-toggleable__control:checked~label.sk-toggleable__label-arrow:before {\n",
              "  content: \"▾\";\n",
              "}\n",
              "\n",
              "/* Pipeline/ColumnTransformer-specific style */\n",
              "\n",
              "#sk-container-id-1 div.sk-label input.sk-toggleable__control:checked~label.sk-toggleable__label {\n",
              "  color: var(--sklearn-color-text);\n",
              "  background-color: var(--sklearn-color-unfitted-level-2);\n",
              "}\n",
              "\n",
              "#sk-container-id-1 div.sk-label.fitted input.sk-toggleable__control:checked~label.sk-toggleable__label {\n",
              "  background-color: var(--sklearn-color-fitted-level-2);\n",
              "}\n",
              "\n",
              "/* Estimator-specific style */\n",
              "\n",
              "/* Colorize estimator box */\n",
              "#sk-container-id-1 div.sk-estimator input.sk-toggleable__control:checked~label.sk-toggleable__label {\n",
              "  /* unfitted */\n",
              "  background-color: var(--sklearn-color-unfitted-level-2);\n",
              "}\n",
              "\n",
              "#sk-container-id-1 div.sk-estimator.fitted input.sk-toggleable__control:checked~label.sk-toggleable__label {\n",
              "  /* fitted */\n",
              "  background-color: var(--sklearn-color-fitted-level-2);\n",
              "}\n",
              "\n",
              "#sk-container-id-1 div.sk-label label.sk-toggleable__label,\n",
              "#sk-container-id-1 div.sk-label label {\n",
              "  /* The background is the default theme color */\n",
              "  color: var(--sklearn-color-text-on-default-background);\n",
              "}\n",
              "\n",
              "/* On hover, darken the color of the background */\n",
              "#sk-container-id-1 div.sk-label:hover label.sk-toggleable__label {\n",
              "  color: var(--sklearn-color-text);\n",
              "  background-color: var(--sklearn-color-unfitted-level-2);\n",
              "}\n",
              "\n",
              "/* Label box, darken color on hover, fitted */\n",
              "#sk-container-id-1 div.sk-label.fitted:hover label.sk-toggleable__label.fitted {\n",
              "  color: var(--sklearn-color-text);\n",
              "  background-color: var(--sklearn-color-fitted-level-2);\n",
              "}\n",
              "\n",
              "/* Estimator label */\n",
              "\n",
              "#sk-container-id-1 div.sk-label label {\n",
              "  font-family: monospace;\n",
              "  font-weight: bold;\n",
              "  display: inline-block;\n",
              "  line-height: 1.2em;\n",
              "}\n",
              "\n",
              "#sk-container-id-1 div.sk-label-container {\n",
              "  text-align: center;\n",
              "}\n",
              "\n",
              "/* Estimator-specific */\n",
              "#sk-container-id-1 div.sk-estimator {\n",
              "  font-family: monospace;\n",
              "  border: 1px dotted var(--sklearn-color-border-box);\n",
              "  border-radius: 0.25em;\n",
              "  box-sizing: border-box;\n",
              "  margin-bottom: 0.5em;\n",
              "  /* unfitted */\n",
              "  background-color: var(--sklearn-color-unfitted-level-0);\n",
              "}\n",
              "\n",
              "#sk-container-id-1 div.sk-estimator.fitted {\n",
              "  /* fitted */\n",
              "  background-color: var(--sklearn-color-fitted-level-0);\n",
              "}\n",
              "\n",
              "/* on hover */\n",
              "#sk-container-id-1 div.sk-estimator:hover {\n",
              "  /* unfitted */\n",
              "  background-color: var(--sklearn-color-unfitted-level-2);\n",
              "}\n",
              "\n",
              "#sk-container-id-1 div.sk-estimator.fitted:hover {\n",
              "  /* fitted */\n",
              "  background-color: var(--sklearn-color-fitted-level-2);\n",
              "}\n",
              "\n",
              "/* Specification for estimator info (e.g. \"i\" and \"?\") */\n",
              "\n",
              "/* Common style for \"i\" and \"?\" */\n",
              "\n",
              ".sk-estimator-doc-link,\n",
              "a:link.sk-estimator-doc-link,\n",
              "a:visited.sk-estimator-doc-link {\n",
              "  float: right;\n",
              "  font-size: smaller;\n",
              "  line-height: 1em;\n",
              "  font-family: monospace;\n",
              "  background-color: var(--sklearn-color-background);\n",
              "  border-radius: 1em;\n",
              "  height: 1em;\n",
              "  width: 1em;\n",
              "  text-decoration: none !important;\n",
              "  margin-left: 0.5em;\n",
              "  text-align: center;\n",
              "  /* unfitted */\n",
              "  border: var(--sklearn-color-unfitted-level-1) 1pt solid;\n",
              "  color: var(--sklearn-color-unfitted-level-1);\n",
              "}\n",
              "\n",
              ".sk-estimator-doc-link.fitted,\n",
              "a:link.sk-estimator-doc-link.fitted,\n",
              "a:visited.sk-estimator-doc-link.fitted {\n",
              "  /* fitted */\n",
              "  border: var(--sklearn-color-fitted-level-1) 1pt solid;\n",
              "  color: var(--sklearn-color-fitted-level-1);\n",
              "}\n",
              "\n",
              "/* On hover */\n",
              "div.sk-estimator:hover .sk-estimator-doc-link:hover,\n",
              ".sk-estimator-doc-link:hover,\n",
              "div.sk-label-container:hover .sk-estimator-doc-link:hover,\n",
              ".sk-estimator-doc-link:hover {\n",
              "  /* unfitted */\n",
              "  background-color: var(--sklearn-color-unfitted-level-3);\n",
              "  color: var(--sklearn-color-background);\n",
              "  text-decoration: none;\n",
              "}\n",
              "\n",
              "div.sk-estimator.fitted:hover .sk-estimator-doc-link.fitted:hover,\n",
              ".sk-estimator-doc-link.fitted:hover,\n",
              "div.sk-label-container:hover .sk-estimator-doc-link.fitted:hover,\n",
              ".sk-estimator-doc-link.fitted:hover {\n",
              "  /* fitted */\n",
              "  background-color: var(--sklearn-color-fitted-level-3);\n",
              "  color: var(--sklearn-color-background);\n",
              "  text-decoration: none;\n",
              "}\n",
              "\n",
              "/* Span, style for the box shown on hovering the info icon */\n",
              ".sk-estimator-doc-link span {\n",
              "  display: none;\n",
              "  z-index: 9999;\n",
              "  position: relative;\n",
              "  font-weight: normal;\n",
              "  right: .2ex;\n",
              "  padding: .5ex;\n",
              "  margin: .5ex;\n",
              "  width: min-content;\n",
              "  min-width: 20ex;\n",
              "  max-width: 50ex;\n",
              "  color: var(--sklearn-color-text);\n",
              "  box-shadow: 2pt 2pt 4pt #999;\n",
              "  /* unfitted */\n",
              "  background: var(--sklearn-color-unfitted-level-0);\n",
              "  border: .5pt solid var(--sklearn-color-unfitted-level-3);\n",
              "}\n",
              "\n",
              ".sk-estimator-doc-link.fitted span {\n",
              "  /* fitted */\n",
              "  background: var(--sklearn-color-fitted-level-0);\n",
              "  border: var(--sklearn-color-fitted-level-3);\n",
              "}\n",
              "\n",
              ".sk-estimator-doc-link:hover span {\n",
              "  display: block;\n",
              "}\n",
              "\n",
              "/* \"?\"-specific style due to the `<a>` HTML tag */\n",
              "\n",
              "#sk-container-id-1 a.estimator_doc_link {\n",
              "  float: right;\n",
              "  font-size: 1rem;\n",
              "  line-height: 1em;\n",
              "  font-family: monospace;\n",
              "  background-color: var(--sklearn-color-background);\n",
              "  border-radius: 1rem;\n",
              "  height: 1rem;\n",
              "  width: 1rem;\n",
              "  text-decoration: none;\n",
              "  /* unfitted */\n",
              "  color: var(--sklearn-color-unfitted-level-1);\n",
              "  border: var(--sklearn-color-unfitted-level-1) 1pt solid;\n",
              "}\n",
              "\n",
              "#sk-container-id-1 a.estimator_doc_link.fitted {\n",
              "  /* fitted */\n",
              "  border: var(--sklearn-color-fitted-level-1) 1pt solid;\n",
              "  color: var(--sklearn-color-fitted-level-1);\n",
              "}\n",
              "\n",
              "/* On hover */\n",
              "#sk-container-id-1 a.estimator_doc_link:hover {\n",
              "  /* unfitted */\n",
              "  background-color: var(--sklearn-color-unfitted-level-3);\n",
              "  color: var(--sklearn-color-background);\n",
              "  text-decoration: none;\n",
              "}\n",
              "\n",
              "#sk-container-id-1 a.estimator_doc_link.fitted:hover {\n",
              "  /* fitted */\n",
              "  background-color: var(--sklearn-color-fitted-level-3);\n",
              "}\n",
              "</style><div id=\"sk-container-id-1\" class=\"sk-top-container\"><div class=\"sk-text-repr-fallback\"><pre>RandomForestClassifier(n_estimators=60, random_state=23)</pre><b>In a Jupyter environment, please rerun this cell to show the HTML representation or trust the notebook. <br />On GitHub, the HTML representation is unable to render, please try loading this page with nbviewer.org.</b></div><div class=\"sk-container\" hidden><div class=\"sk-item\"><div class=\"sk-estimator fitted sk-toggleable\"><input class=\"sk-toggleable__control sk-hidden--visually\" id=\"sk-estimator-id-1\" type=\"checkbox\" checked><label for=\"sk-estimator-id-1\" class=\"sk-toggleable__label fitted sk-toggleable__label-arrow\"><div><div>RandomForestClassifier</div></div><div><a class=\"sk-estimator-doc-link fitted\" rel=\"noreferrer\" target=\"_blank\" href=\"https://scikit-learn.org/1.6/modules/generated/sklearn.ensemble.RandomForestClassifier.html\">?<span>Documentation for RandomForestClassifier</span></a><span class=\"sk-estimator-doc-link fitted\">i<span>Fitted</span></span></div></label><div class=\"sk-toggleable__content fitted\"><pre>RandomForestClassifier(n_estimators=60, random_state=23)</pre></div> </div></div></div></div>"
            ]
          },
          "metadata": {},
          "execution_count": 42
        }
      ],
      "source": [
        "#fitting the model\n",
        "rfc.fit(X_train,y_train)"
      ]
    },
    {
      "cell_type": "code",
      "execution_count": 43,
      "metadata": {
        "colab": {
          "base_uri": "https://localhost:8080/"
        },
        "id": "n6q9SGprbh2G",
        "outputId": "8155cbb3-f4f0-4b06-8115-97ad6c1312d7"
      },
      "outputs": [
        {
          "output_type": "execute_result",
          "data": {
            "text/plain": [
              "1.0"
            ]
          },
          "metadata": {},
          "execution_count": 43
        }
      ],
      "source": [
        "rfc.score(X_train,y_train)"
      ]
    },
    {
      "cell_type": "code",
      "execution_count": 44,
      "metadata": {
        "colab": {
          "base_uri": "https://localhost:8080/"
        },
        "id": "6c3VSGbCbh2G",
        "outputId": "6f45ee70-f9c6-401b-829d-2b42aceca26f"
      },
      "outputs": [
        {
          "output_type": "stream",
          "name": "stdout",
          "text": [
            "the accuracy score is  0.9788359788359788\n"
          ]
        }
      ],
      "source": [
        "#finding the Prediction and accuracy\n",
        "from sklearn.metrics import accuracy_score\n",
        "y_pred = rfc.predict(X_test)\n",
        "print(\"the accuracy score is \", accuracy_score(y_test, y_pred))"
      ]
    },
    {
      "cell_type": "code",
      "execution_count": 45,
      "metadata": {
        "colab": {
          "base_uri": "https://localhost:8080/"
        },
        "id": "AYJEFly8bh2Y",
        "outputId": "2a2312b8-11a2-4b91-c63f-b4c09fe9303a"
      },
      "outputs": [
        {
          "output_type": "stream",
          "name": "stdout",
          "text": [
            "the classification report is \n",
            "\n",
            "              precision    recall  f1-score   support\n",
            "\n",
            "           0       0.98      1.00      0.99        43\n",
            "           1       0.97      0.97      0.97        36\n",
            "           2       0.97      0.97      0.97        31\n",
            "           3       1.00      0.95      0.97        40\n",
            "           4       0.97      1.00      0.99        39\n",
            "\n",
            "    accuracy                           0.98       189\n",
            "   macro avg       0.98      0.98      0.98       189\n",
            "weighted avg       0.98      0.98      0.98       189\n",
            "\n"
          ]
        }
      ],
      "source": [
        "# evaluation of classification report\n",
        "import sklearn.metrics\n",
        "print(\"the classification report is \\n\")\n",
        "print(sklearn.metrics.classification_report(y_test, y_pred))"
      ]
    },
    {
      "cell_type": "code",
      "execution_count": 46,
      "metadata": {
        "colab": {
          "base_uri": "https://localhost:8080/"
        },
        "id": "Aht4qaYZbh2Y",
        "outputId": "f82cb73c-85ac-4cd2-ce7b-2ed7941b79a1"
      },
      "outputs": [
        {
          "output_type": "stream",
          "name": "stdout",
          "text": [
            "the confusion matrix is \n",
            "\n",
            " [[43  0  0  0  0]\n",
            " [ 1 35  0  0  0]\n",
            " [ 0  1 30  0  0]\n",
            " [ 0  0  1 38  1]\n",
            " [ 0  0  0  0 39]]\n"
          ]
        }
      ],
      "source": [
        "y_pred = rfc.predict(X_test)\n",
        "y_true=y_test\n",
        "\n",
        "#confusion matrix\n",
        "from sklearn.metrics import confusion_matrix\n",
        "cm=confusion_matrix(y_true,y_pred)\n",
        "print(\"the confusion matrix is \\n\\n\",cm)"
      ]
    },
    {
      "cell_type": "code",
      "execution_count": 47,
      "metadata": {
        "colab": {
          "base_uri": "https://localhost:8080/",
          "height": 388
        },
        "id": "gmVvAV3lbh2Z",
        "outputId": "c4534639-2d8b-4e69-8698-65d63cd2f793"
      },
      "outputs": [
        {
          "output_type": "display_data",
          "data": {
            "text/plain": [
              "<Figure size 500x400 with 2 Axes>"
            ],
            "image/png": "[encoded data removed]"
          },
          "metadata": {}
        }
      ],
      "source": [
        "#plotting the confusion matrix\n",
        "import seaborn as sns\n",
        "import matplotlib.pyplot as plt\n",
        "\n",
        "f, ax=plt.subplots(figsize=(5,4))\n",
        "sns.heatmap(cm,annot=True,linewidths=0.7,linecolor=\"white\",fmt=\".0f\",ax=ax)\n",
        "plt.xlabel(\"y_pred\")\n",
        "plt.ylabel(\"y_true\")\n",
        "plt.show()"
      ]
    },
    {
      "cell_type": "code",
      "execution_count": 48,
      "metadata": {
        "id": "z6XHM9L1bh2Z",
        "outputId": "e0b506e6-d43c-4720-939a-679cbc0c3cfe",
        "colab": {
          "base_uri": "https://localhost:8080/"
        }
      },
      "outputs": [
        {
          "output_type": "stream",
          "name": "stdout",
          "text": [
            "Successfully saved the model in stress_detection.pkl\n"
          ]
        }
      ],
      "source": [
        "# Saving the model using pickle library\n",
        "import pickle\n",
        "\n",
        "try:\n",
        "    pickle.dump(rfc, open('stress_detection.pkl', 'wb'))\n",
        "    stress = pickle.load(open('stress_detection.pkl', 'rb'))\n",
        "    print(\"Successfully saved the model in stress_detection.pkl\")\n",
        "except Exception as e:\n",
        "    print(f\"Failed: {e}\")"
      ]
    }
  ],
  "metadata": {
    "colab": {
      "provenance": [],
      "include_colab_link": true
    },
    "kernelspec": {
      "display_name": "Python 3",
      "language": "python",
      "name": "python3"
    },
    "language_info": {
      "codemirror_mode": {
        "name": "ipython",
        "version": 3
      },
      "file_extension": ".py",
      "mimetype": "text/x-python",
      "name": "python",
      "nbconvert_exporter": "python",
      "pygments_lexer": "ipython3",
      "version": "3.12.6"
    }
  },
  "nbformat": 4,
  "nbformat_minor": 0
}